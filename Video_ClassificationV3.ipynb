{
  "cells": [
    {
      "cell_type": "code",
      "execution_count": null,
      "metadata": {
        "id": "9AgOcVVuFFC-",
        "colab": {
          "base_uri": "https://localhost:8080/"
        },
        "outputId": "e1dfa6c2-a432-4fe2-912e-2d28c5f33a41"
      },
      "outputs": [
        {
          "output_type": "stream",
          "name": "stdout",
          "text": [
            "Mounted at /content/gdrive\n"
          ]
        }
      ],
      "source": [
        "from google.colab import drive\n",
        "drive.mount('/content/gdrive', force_remount=True)\n"
      ]
    },
    {
      "cell_type": "code",
      "execution_count": null,
      "metadata": {
        "id": "OL3s3CSCFh_M"
      },
      "outputs": [],
      "source": [
        "import cv2     # for capturing videos\n",
        "import math   # for mathematical operations\n",
        "import matplotlib.pyplot as plt    # for plotting the images\n",
        "%matplotlib inline\n",
        "import pandas as pd\n",
        "from keras.preprocessing import image   # for preprocessing the images\n",
        "import numpy as np    # for mathematical operations\n",
        "from keras.utils import np_utils\n",
        "from skimage.transform import resize   # for resizing images\n",
        "from sklearn.model_selection import train_test_split\n",
        "from glob import glob\n",
        "from tqdm import tqdm"
      ]
    },
    {
      "cell_type": "code",
      "source": [
        "# Upload a video file\n",
        "from google.colab import files\n",
        "uploaded = files.upload()"
      ],
      "metadata": {
        "colab": {
          "base_uri": "https://localhost:8080/",
          "height": 73
        },
        "id": "jF4eJokyzO8F",
        "outputId": "2debda24-ccf3-483e-8ca8-6a324823bb4c"
      },
      "execution_count": null,
      "outputs": [
        {
          "output_type": "display_data",
          "data": {
            "text/plain": [
              "<IPython.core.display.HTML object>"
            ],
            "text/html": [
              "\n",
              "     <input type=\"file\" id=\"files-ef4c1152-fe50-40b6-9940-168f432b2d48\" name=\"files[]\" multiple disabled\n",
              "        style=\"border:none\" />\n",
              "     <output id=\"result-ef4c1152-fe50-40b6-9940-168f432b2d48\">\n",
              "      Upload widget is only available when the cell has been executed in the\n",
              "      current browser session. Please rerun this cell to enable.\n",
              "      </output>\n",
              "      <script>// Copyright 2017 Google LLC\n",
              "//\n",
              "// Licensed under the Apache License, Version 2.0 (the \"License\");\n",
              "// you may not use this file except in compliance with the License.\n",
              "// You may obtain a copy of the License at\n",
              "//\n",
              "//      http://www.apache.org/licenses/LICENSE-2.0\n",
              "//\n",
              "// Unless required by applicable law or agreed to in writing, software\n",
              "// distributed under the License is distributed on an \"AS IS\" BASIS,\n",
              "// WITHOUT WARRANTIES OR CONDITIONS OF ANY KIND, either express or implied.\n",
              "// See the License for the specific language governing permissions and\n",
              "// limitations under the License.\n",
              "\n",
              "/**\n",
              " * @fileoverview Helpers for google.colab Python module.\n",
              " */\n",
              "(function(scope) {\n",
              "function span(text, styleAttributes = {}) {\n",
              "  const element = document.createElement('span');\n",
              "  element.textContent = text;\n",
              "  for (const key of Object.keys(styleAttributes)) {\n",
              "    element.style[key] = styleAttributes[key];\n",
              "  }\n",
              "  return element;\n",
              "}\n",
              "\n",
              "// Max number of bytes which will be uploaded at a time.\n",
              "const MAX_PAYLOAD_SIZE = 100 * 1024;\n",
              "\n",
              "function _uploadFiles(inputId, outputId) {\n",
              "  const steps = uploadFilesStep(inputId, outputId);\n",
              "  const outputElement = document.getElementById(outputId);\n",
              "  // Cache steps on the outputElement to make it available for the next call\n",
              "  // to uploadFilesContinue from Python.\n",
              "  outputElement.steps = steps;\n",
              "\n",
              "  return _uploadFilesContinue(outputId);\n",
              "}\n",
              "\n",
              "// This is roughly an async generator (not supported in the browser yet),\n",
              "// where there are multiple asynchronous steps and the Python side is going\n",
              "// to poll for completion of each step.\n",
              "// This uses a Promise to block the python side on completion of each step,\n",
              "// then passes the result of the previous step as the input to the next step.\n",
              "function _uploadFilesContinue(outputId) {\n",
              "  const outputElement = document.getElementById(outputId);\n",
              "  const steps = outputElement.steps;\n",
              "\n",
              "  const next = steps.next(outputElement.lastPromiseValue);\n",
              "  return Promise.resolve(next.value.promise).then((value) => {\n",
              "    // Cache the last promise value to make it available to the next\n",
              "    // step of the generator.\n",
              "    outputElement.lastPromiseValue = value;\n",
              "    return next.value.response;\n",
              "  });\n",
              "}\n",
              "\n",
              "/**\n",
              " * Generator function which is called between each async step of the upload\n",
              " * process.\n",
              " * @param {string} inputId Element ID of the input file picker element.\n",
              " * @param {string} outputId Element ID of the output display.\n",
              " * @return {!Iterable<!Object>} Iterable of next steps.\n",
              " */\n",
              "function* uploadFilesStep(inputId, outputId) {\n",
              "  const inputElement = document.getElementById(inputId);\n",
              "  inputElement.disabled = false;\n",
              "\n",
              "  const outputElement = document.getElementById(outputId);\n",
              "  outputElement.innerHTML = '';\n",
              "\n",
              "  const pickedPromise = new Promise((resolve) => {\n",
              "    inputElement.addEventListener('change', (e) => {\n",
              "      resolve(e.target.files);\n",
              "    });\n",
              "  });\n",
              "\n",
              "  const cancel = document.createElement('button');\n",
              "  inputElement.parentElement.appendChild(cancel);\n",
              "  cancel.textContent = 'Cancel upload';\n",
              "  const cancelPromise = new Promise((resolve) => {\n",
              "    cancel.onclick = () => {\n",
              "      resolve(null);\n",
              "    };\n",
              "  });\n",
              "\n",
              "  // Wait for the user to pick the files.\n",
              "  const files = yield {\n",
              "    promise: Promise.race([pickedPromise, cancelPromise]),\n",
              "    response: {\n",
              "      action: 'starting',\n",
              "    }\n",
              "  };\n",
              "\n",
              "  cancel.remove();\n",
              "\n",
              "  // Disable the input element since further picks are not allowed.\n",
              "  inputElement.disabled = true;\n",
              "\n",
              "  if (!files) {\n",
              "    return {\n",
              "      response: {\n",
              "        action: 'complete',\n",
              "      }\n",
              "    };\n",
              "  }\n",
              "\n",
              "  for (const file of files) {\n",
              "    const li = document.createElement('li');\n",
              "    li.append(span(file.name, {fontWeight: 'bold'}));\n",
              "    li.append(span(\n",
              "        `(${file.type || 'n/a'}) - ${file.size} bytes, ` +\n",
              "        `last modified: ${\n",
              "            file.lastModifiedDate ? file.lastModifiedDate.toLocaleDateString() :\n",
              "                                    'n/a'} - `));\n",
              "    const percent = span('0% done');\n",
              "    li.appendChild(percent);\n",
              "\n",
              "    outputElement.appendChild(li);\n",
              "\n",
              "    const fileDataPromise = new Promise((resolve) => {\n",
              "      const reader = new FileReader();\n",
              "      reader.onload = (e) => {\n",
              "        resolve(e.target.result);\n",
              "      };\n",
              "      reader.readAsArrayBuffer(file);\n",
              "    });\n",
              "    // Wait for the data to be ready.\n",
              "    let fileData = yield {\n",
              "      promise: fileDataPromise,\n",
              "      response: {\n",
              "        action: 'continue',\n",
              "      }\n",
              "    };\n",
              "\n",
              "    // Use a chunked sending to avoid message size limits. See b/62115660.\n",
              "    let position = 0;\n",
              "    do {\n",
              "      const length = Math.min(fileData.byteLength - position, MAX_PAYLOAD_SIZE);\n",
              "      const chunk = new Uint8Array(fileData, position, length);\n",
              "      position += length;\n",
              "\n",
              "      const base64 = btoa(String.fromCharCode.apply(null, chunk));\n",
              "      yield {\n",
              "        response: {\n",
              "          action: 'append',\n",
              "          file: file.name,\n",
              "          data: base64,\n",
              "        },\n",
              "      };\n",
              "\n",
              "      let percentDone = fileData.byteLength === 0 ?\n",
              "          100 :\n",
              "          Math.round((position / fileData.byteLength) * 100);\n",
              "      percent.textContent = `${percentDone}% done`;\n",
              "\n",
              "    } while (position < fileData.byteLength);\n",
              "  }\n",
              "\n",
              "  // All done.\n",
              "  yield {\n",
              "    response: {\n",
              "      action: 'complete',\n",
              "    }\n",
              "  };\n",
              "}\n",
              "\n",
              "scope.google = scope.google || {};\n",
              "scope.google.colab = scope.google.colab || {};\n",
              "scope.google.colab._files = {\n",
              "  _uploadFiles,\n",
              "  _uploadFilesContinue,\n",
              "};\n",
              "})(self);\n",
              "</script> "
            ]
          },
          "metadata": {}
        },
        {
          "output_type": "stream",
          "name": "stdout",
          "text": [
            "Saving trainlist01.txt to trainlist01.txt\n"
          ]
        }
      ]
    },
    {
      "cell_type": "code",
      "execution_count": null,
      "metadata": {
        "id": "8Lck9Rn1GTsT"
      },
      "outputs": [],
      "source": [
        "# open the .txt file which have names of training videos\n",
        "f = open(\"trainlist01.txt\", \"r\")\n",
        "temp = f.read()\n",
        "videos = temp.split('\\n')\n",
        "# creating a dataframe having video names\n",
        "train = pd.DataFrame()\n",
        "train['video_name'] = videos\n",
        "train = train[:-1]\n"
      ]
    },
    {
      "cell_type": "code",
      "execution_count": null,
      "metadata": {
        "colab": {
          "base_uri": "https://localhost:8080/",
          "height": 206
        },
        "id": "tTnyoLj0MvKU",
        "outputId": "813e71b1-ff3d-4ccc-c7b3-7c9261895500"
      },
      "outputs": [
        {
          "output_type": "execute_result",
          "data": {
            "text/plain": [
              "                                      video_name\n",
              "0  ApplyEyeMakeup/v_ApplyEyeMakeup_g08_c01.avi 1\n",
              "1  ApplyEyeMakeup/v_ApplyEyeMakeup_g08_c02.avi 1\n",
              "2  ApplyEyeMakeup/v_ApplyEyeMakeup_g08_c03.avi 1\n",
              "3  ApplyEyeMakeup/v_ApplyEyeMakeup_g08_c04.avi 1\n",
              "4  ApplyEyeMakeup/v_ApplyEyeMakeup_g08_c05.avi 1"
            ],
            "text/html": [
              "\n",
              "  <div id=\"df-05f43c13-7ec5-4e4e-9b90-2f0caf94a3a3\">\n",
              "    <div class=\"colab-df-container\">\n",
              "      <div>\n",
              "<style scoped>\n",
              "    .dataframe tbody tr th:only-of-type {\n",
              "        vertical-align: middle;\n",
              "    }\n",
              "\n",
              "    .dataframe tbody tr th {\n",
              "        vertical-align: top;\n",
              "    }\n",
              "\n",
              "    .dataframe thead th {\n",
              "        text-align: right;\n",
              "    }\n",
              "</style>\n",
              "<table border=\"1\" class=\"dataframe\">\n",
              "  <thead>\n",
              "    <tr style=\"text-align: right;\">\n",
              "      <th></th>\n",
              "      <th>video_name</th>\n",
              "    </tr>\n",
              "  </thead>\n",
              "  <tbody>\n",
              "    <tr>\n",
              "      <th>0</th>\n",
              "      <td>ApplyEyeMakeup/v_ApplyEyeMakeup_g08_c01.avi 1</td>\n",
              "    </tr>\n",
              "    <tr>\n",
              "      <th>1</th>\n",
              "      <td>ApplyEyeMakeup/v_ApplyEyeMakeup_g08_c02.avi 1</td>\n",
              "    </tr>\n",
              "    <tr>\n",
              "      <th>2</th>\n",
              "      <td>ApplyEyeMakeup/v_ApplyEyeMakeup_g08_c03.avi 1</td>\n",
              "    </tr>\n",
              "    <tr>\n",
              "      <th>3</th>\n",
              "      <td>ApplyEyeMakeup/v_ApplyEyeMakeup_g08_c04.avi 1</td>\n",
              "    </tr>\n",
              "    <tr>\n",
              "      <th>4</th>\n",
              "      <td>ApplyEyeMakeup/v_ApplyEyeMakeup_g08_c05.avi 1</td>\n",
              "    </tr>\n",
              "  </tbody>\n",
              "</table>\n",
              "</div>\n",
              "      <button class=\"colab-df-convert\" onclick=\"convertToInteractive('df-05f43c13-7ec5-4e4e-9b90-2f0caf94a3a3')\"\n",
              "              title=\"Convert this dataframe to an interactive table.\"\n",
              "              style=\"display:none;\">\n",
              "        \n",
              "  <svg xmlns=\"http://www.w3.org/2000/svg\" height=\"24px\"viewBox=\"0 0 24 24\"\n",
              "       width=\"24px\">\n",
              "    <path d=\"M0 0h24v24H0V0z\" fill=\"none\"/>\n",
              "    <path d=\"M18.56 5.44l.94 2.06.94-2.06 2.06-.94-2.06-.94-.94-2.06-.94 2.06-2.06.94zm-11 1L8.5 8.5l.94-2.06 2.06-.94-2.06-.94L8.5 2.5l-.94 2.06-2.06.94zm10 10l.94 2.06.94-2.06 2.06-.94-2.06-.94-.94-2.06-.94 2.06-2.06.94z\"/><path d=\"M17.41 7.96l-1.37-1.37c-.4-.4-.92-.59-1.43-.59-.52 0-1.04.2-1.43.59L10.3 9.45l-7.72 7.72c-.78.78-.78 2.05 0 2.83L4 21.41c.39.39.9.59 1.41.59.51 0 1.02-.2 1.41-.59l7.78-7.78 2.81-2.81c.8-.78.8-2.07 0-2.86zM5.41 20L4 18.59l7.72-7.72 1.47 1.35L5.41 20z\"/>\n",
              "  </svg>\n",
              "      </button>\n",
              "      \n",
              "  <style>\n",
              "    .colab-df-container {\n",
              "      display:flex;\n",
              "      flex-wrap:wrap;\n",
              "      gap: 12px;\n",
              "    }\n",
              "\n",
              "    .colab-df-convert {\n",
              "      background-color: #E8F0FE;\n",
              "      border: none;\n",
              "      border-radius: 50%;\n",
              "      cursor: pointer;\n",
              "      display: none;\n",
              "      fill: #1967D2;\n",
              "      height: 32px;\n",
              "      padding: 0 0 0 0;\n",
              "      width: 32px;\n",
              "    }\n",
              "\n",
              "    .colab-df-convert:hover {\n",
              "      background-color: #E2EBFA;\n",
              "      box-shadow: 0px 1px 2px rgba(60, 64, 67, 0.3), 0px 1px 3px 1px rgba(60, 64, 67, 0.15);\n",
              "      fill: #174EA6;\n",
              "    }\n",
              "\n",
              "    [theme=dark] .colab-df-convert {\n",
              "      background-color: #3B4455;\n",
              "      fill: #D2E3FC;\n",
              "    }\n",
              "\n",
              "    [theme=dark] .colab-df-convert:hover {\n",
              "      background-color: #434B5C;\n",
              "      box-shadow: 0px 1px 3px 1px rgba(0, 0, 0, 0.15);\n",
              "      filter: drop-shadow(0px 1px 2px rgba(0, 0, 0, 0.3));\n",
              "      fill: #FFFFFF;\n",
              "    }\n",
              "  </style>\n",
              "\n",
              "      <script>\n",
              "        const buttonEl =\n",
              "          document.querySelector('#df-05f43c13-7ec5-4e4e-9b90-2f0caf94a3a3 button.colab-df-convert');\n",
              "        buttonEl.style.display =\n",
              "          google.colab.kernel.accessAllowed ? 'block' : 'none';\n",
              "\n",
              "        async function convertToInteractive(key) {\n",
              "          const element = document.querySelector('#df-05f43c13-7ec5-4e4e-9b90-2f0caf94a3a3');\n",
              "          const dataTable =\n",
              "            await google.colab.kernel.invokeFunction('convertToInteractive',\n",
              "                                                     [key], {});\n",
              "          if (!dataTable) return;\n",
              "\n",
              "          const docLinkHtml = 'Like what you see? Visit the ' +\n",
              "            '<a target=\"_blank\" href=https://colab.research.google.com/notebooks/data_table.ipynb>data table notebook</a>'\n",
              "            + ' to learn more about interactive tables.';\n",
              "          element.innerHTML = '';\n",
              "          dataTable['output_type'] = 'display_data';\n",
              "          await google.colab.output.renderOutput(dataTable, element);\n",
              "          const docLink = document.createElement('div');\n",
              "          docLink.innerHTML = docLinkHtml;\n",
              "          element.appendChild(docLink);\n",
              "        }\n",
              "      </script>\n",
              "    </div>\n",
              "  </div>\n",
              "  "
            ]
          },
          "metadata": {},
          "execution_count": 7
        }
      ],
      "source": [
        "# View sample dataset\n",
        "train.head()"
      ]
    },
    {
      "cell_type": "code",
      "execution_count": null,
      "metadata": {
        "colab": {
          "base_uri": "https://localhost:8080/",
          "height": 35
        },
        "id": "J2JskAKTMvph",
        "outputId": "a1d57052-ae20-489c-fab1-9c4810fd8a0b"
      },
      "outputs": [
        {
          "output_type": "execute_result",
          "data": {
            "text/plain": [
              "'ApplyEyeMakeup/v_ApplyEyeMakeup_g08_c02.avi 1'"
            ],
            "application/vnd.google.colaboratory.intrinsic+json": {
              "type": "string"
            }
          },
          "metadata": {},
          "execution_count": 8
        }
      ],
      "source": [
        "train['video_name'].iloc[1]"
      ]
    },
    {
      "cell_type": "code",
      "source": [
        "# Upload a video file\n",
        "from google.colab import files\n",
        "uploaded = files.upload()"
      ],
      "metadata": {
        "colab": {
          "base_uri": "https://localhost:8080/",
          "height": 73
        },
        "id": "0l_hARrx0Mel",
        "outputId": "97e6dff9-5a09-417b-be90-1c6f20d173d0"
      },
      "execution_count": null,
      "outputs": [
        {
          "output_type": "display_data",
          "data": {
            "text/plain": [
              "<IPython.core.display.HTML object>"
            ],
            "text/html": [
              "\n",
              "     <input type=\"file\" id=\"files-fea638d8-15c6-49d6-a78a-a649d3c27adb\" name=\"files[]\" multiple disabled\n",
              "        style=\"border:none\" />\n",
              "     <output id=\"result-fea638d8-15c6-49d6-a78a-a649d3c27adb\">\n",
              "      Upload widget is only available when the cell has been executed in the\n",
              "      current browser session. Please rerun this cell to enable.\n",
              "      </output>\n",
              "      <script>// Copyright 2017 Google LLC\n",
              "//\n",
              "// Licensed under the Apache License, Version 2.0 (the \"License\");\n",
              "// you may not use this file except in compliance with the License.\n",
              "// You may obtain a copy of the License at\n",
              "//\n",
              "//      http://www.apache.org/licenses/LICENSE-2.0\n",
              "//\n",
              "// Unless required by applicable law or agreed to in writing, software\n",
              "// distributed under the License is distributed on an \"AS IS\" BASIS,\n",
              "// WITHOUT WARRANTIES OR CONDITIONS OF ANY KIND, either express or implied.\n",
              "// See the License for the specific language governing permissions and\n",
              "// limitations under the License.\n",
              "\n",
              "/**\n",
              " * @fileoverview Helpers for google.colab Python module.\n",
              " */\n",
              "(function(scope) {\n",
              "function span(text, styleAttributes = {}) {\n",
              "  const element = document.createElement('span');\n",
              "  element.textContent = text;\n",
              "  for (const key of Object.keys(styleAttributes)) {\n",
              "    element.style[key] = styleAttributes[key];\n",
              "  }\n",
              "  return element;\n",
              "}\n",
              "\n",
              "// Max number of bytes which will be uploaded at a time.\n",
              "const MAX_PAYLOAD_SIZE = 100 * 1024;\n",
              "\n",
              "function _uploadFiles(inputId, outputId) {\n",
              "  const steps = uploadFilesStep(inputId, outputId);\n",
              "  const outputElement = document.getElementById(outputId);\n",
              "  // Cache steps on the outputElement to make it available for the next call\n",
              "  // to uploadFilesContinue from Python.\n",
              "  outputElement.steps = steps;\n",
              "\n",
              "  return _uploadFilesContinue(outputId);\n",
              "}\n",
              "\n",
              "// This is roughly an async generator (not supported in the browser yet),\n",
              "// where there are multiple asynchronous steps and the Python side is going\n",
              "// to poll for completion of each step.\n",
              "// This uses a Promise to block the python side on completion of each step,\n",
              "// then passes the result of the previous step as the input to the next step.\n",
              "function _uploadFilesContinue(outputId) {\n",
              "  const outputElement = document.getElementById(outputId);\n",
              "  const steps = outputElement.steps;\n",
              "\n",
              "  const next = steps.next(outputElement.lastPromiseValue);\n",
              "  return Promise.resolve(next.value.promise).then((value) => {\n",
              "    // Cache the last promise value to make it available to the next\n",
              "    // step of the generator.\n",
              "    outputElement.lastPromiseValue = value;\n",
              "    return next.value.response;\n",
              "  });\n",
              "}\n",
              "\n",
              "/**\n",
              " * Generator function which is called between each async step of the upload\n",
              " * process.\n",
              " * @param {string} inputId Element ID of the input file picker element.\n",
              " * @param {string} outputId Element ID of the output display.\n",
              " * @return {!Iterable<!Object>} Iterable of next steps.\n",
              " */\n",
              "function* uploadFilesStep(inputId, outputId) {\n",
              "  const inputElement = document.getElementById(inputId);\n",
              "  inputElement.disabled = false;\n",
              "\n",
              "  const outputElement = document.getElementById(outputId);\n",
              "  outputElement.innerHTML = '';\n",
              "\n",
              "  const pickedPromise = new Promise((resolve) => {\n",
              "    inputElement.addEventListener('change', (e) => {\n",
              "      resolve(e.target.files);\n",
              "    });\n",
              "  });\n",
              "\n",
              "  const cancel = document.createElement('button');\n",
              "  inputElement.parentElement.appendChild(cancel);\n",
              "  cancel.textContent = 'Cancel upload';\n",
              "  const cancelPromise = new Promise((resolve) => {\n",
              "    cancel.onclick = () => {\n",
              "      resolve(null);\n",
              "    };\n",
              "  });\n",
              "\n",
              "  // Wait for the user to pick the files.\n",
              "  const files = yield {\n",
              "    promise: Promise.race([pickedPromise, cancelPromise]),\n",
              "    response: {\n",
              "      action: 'starting',\n",
              "    }\n",
              "  };\n",
              "\n",
              "  cancel.remove();\n",
              "\n",
              "  // Disable the input element since further picks are not allowed.\n",
              "  inputElement.disabled = true;\n",
              "\n",
              "  if (!files) {\n",
              "    return {\n",
              "      response: {\n",
              "        action: 'complete',\n",
              "      }\n",
              "    };\n",
              "  }\n",
              "\n",
              "  for (const file of files) {\n",
              "    const li = document.createElement('li');\n",
              "    li.append(span(file.name, {fontWeight: 'bold'}));\n",
              "    li.append(span(\n",
              "        `(${file.type || 'n/a'}) - ${file.size} bytes, ` +\n",
              "        `last modified: ${\n",
              "            file.lastModifiedDate ? file.lastModifiedDate.toLocaleDateString() :\n",
              "                                    'n/a'} - `));\n",
              "    const percent = span('0% done');\n",
              "    li.appendChild(percent);\n",
              "\n",
              "    outputElement.appendChild(li);\n",
              "\n",
              "    const fileDataPromise = new Promise((resolve) => {\n",
              "      const reader = new FileReader();\n",
              "      reader.onload = (e) => {\n",
              "        resolve(e.target.result);\n",
              "      };\n",
              "      reader.readAsArrayBuffer(file);\n",
              "    });\n",
              "    // Wait for the data to be ready.\n",
              "    let fileData = yield {\n",
              "      promise: fileDataPromise,\n",
              "      response: {\n",
              "        action: 'continue',\n",
              "      }\n",
              "    };\n",
              "\n",
              "    // Use a chunked sending to avoid message size limits. See b/62115660.\n",
              "    let position = 0;\n",
              "    do {\n",
              "      const length = Math.min(fileData.byteLength - position, MAX_PAYLOAD_SIZE);\n",
              "      const chunk = new Uint8Array(fileData, position, length);\n",
              "      position += length;\n",
              "\n",
              "      const base64 = btoa(String.fromCharCode.apply(null, chunk));\n",
              "      yield {\n",
              "        response: {\n",
              "          action: 'append',\n",
              "          file: file.name,\n",
              "          data: base64,\n",
              "        },\n",
              "      };\n",
              "\n",
              "      let percentDone = fileData.byteLength === 0 ?\n",
              "          100 :\n",
              "          Math.round((position / fileData.byteLength) * 100);\n",
              "      percent.textContent = `${percentDone}% done`;\n",
              "\n",
              "    } while (position < fileData.byteLength);\n",
              "  }\n",
              "\n",
              "  // All done.\n",
              "  yield {\n",
              "    response: {\n",
              "      action: 'complete',\n",
              "    }\n",
              "  };\n",
              "}\n",
              "\n",
              "scope.google = scope.google || {};\n",
              "scope.google.colab = scope.google.colab || {};\n",
              "scope.google.colab._files = {\n",
              "  _uploadFiles,\n",
              "  _uploadFilesContinue,\n",
              "};\n",
              "})(self);\n",
              "</script> "
            ]
          },
          "metadata": {}
        },
        {
          "output_type": "stream",
          "name": "stdout",
          "text": [
            "Saving testlist01.txt to testlist01.txt\n"
          ]
        }
      ]
    },
    {
      "cell_type": "code",
      "execution_count": null,
      "metadata": {
        "colab": {
          "base_uri": "https://localhost:8080/",
          "height": 206
        },
        "id": "-RsvYTLRT44a",
        "outputId": "8861b7e9-2f3c-44b2-8764-002ee6f2fea1"
      },
      "outputs": [
        {
          "output_type": "execute_result",
          "data": {
            "text/plain": [
              "                                    video_name\n",
              "0  ApplyEyeMakeup/v_ApplyEyeMakeup_g01_c01.avi\n",
              "1  ApplyEyeMakeup/v_ApplyEyeMakeup_g01_c02.avi\n",
              "2  ApplyEyeMakeup/v_ApplyEyeMakeup_g01_c03.avi\n",
              "3  ApplyEyeMakeup/v_ApplyEyeMakeup_g01_c04.avi\n",
              "4  ApplyEyeMakeup/v_ApplyEyeMakeup_g01_c05.avi"
            ],
            "text/html": [
              "\n",
              "  <div id=\"df-409ba8ea-be18-407c-9cd4-d12622ae5ea6\">\n",
              "    <div class=\"colab-df-container\">\n",
              "      <div>\n",
              "<style scoped>\n",
              "    .dataframe tbody tr th:only-of-type {\n",
              "        vertical-align: middle;\n",
              "    }\n",
              "\n",
              "    .dataframe tbody tr th {\n",
              "        vertical-align: top;\n",
              "    }\n",
              "\n",
              "    .dataframe thead th {\n",
              "        text-align: right;\n",
              "    }\n",
              "</style>\n",
              "<table border=\"1\" class=\"dataframe\">\n",
              "  <thead>\n",
              "    <tr style=\"text-align: right;\">\n",
              "      <th></th>\n",
              "      <th>video_name</th>\n",
              "    </tr>\n",
              "  </thead>\n",
              "  <tbody>\n",
              "    <tr>\n",
              "      <th>0</th>\n",
              "      <td>ApplyEyeMakeup/v_ApplyEyeMakeup_g01_c01.avi</td>\n",
              "    </tr>\n",
              "    <tr>\n",
              "      <th>1</th>\n",
              "      <td>ApplyEyeMakeup/v_ApplyEyeMakeup_g01_c02.avi</td>\n",
              "    </tr>\n",
              "    <tr>\n",
              "      <th>2</th>\n",
              "      <td>ApplyEyeMakeup/v_ApplyEyeMakeup_g01_c03.avi</td>\n",
              "    </tr>\n",
              "    <tr>\n",
              "      <th>3</th>\n",
              "      <td>ApplyEyeMakeup/v_ApplyEyeMakeup_g01_c04.avi</td>\n",
              "    </tr>\n",
              "    <tr>\n",
              "      <th>4</th>\n",
              "      <td>ApplyEyeMakeup/v_ApplyEyeMakeup_g01_c05.avi</td>\n",
              "    </tr>\n",
              "  </tbody>\n",
              "</table>\n",
              "</div>\n",
              "      <button class=\"colab-df-convert\" onclick=\"convertToInteractive('df-409ba8ea-be18-407c-9cd4-d12622ae5ea6')\"\n",
              "              title=\"Convert this dataframe to an interactive table.\"\n",
              "              style=\"display:none;\">\n",
              "        \n",
              "  <svg xmlns=\"http://www.w3.org/2000/svg\" height=\"24px\"viewBox=\"0 0 24 24\"\n",
              "       width=\"24px\">\n",
              "    <path d=\"M0 0h24v24H0V0z\" fill=\"none\"/>\n",
              "    <path d=\"M18.56 5.44l.94 2.06.94-2.06 2.06-.94-2.06-.94-.94-2.06-.94 2.06-2.06.94zm-11 1L8.5 8.5l.94-2.06 2.06-.94-2.06-.94L8.5 2.5l-.94 2.06-2.06.94zm10 10l.94 2.06.94-2.06 2.06-.94-2.06-.94-.94-2.06-.94 2.06-2.06.94z\"/><path d=\"M17.41 7.96l-1.37-1.37c-.4-.4-.92-.59-1.43-.59-.52 0-1.04.2-1.43.59L10.3 9.45l-7.72 7.72c-.78.78-.78 2.05 0 2.83L4 21.41c.39.39.9.59 1.41.59.51 0 1.02-.2 1.41-.59l7.78-7.78 2.81-2.81c.8-.78.8-2.07 0-2.86zM5.41 20L4 18.59l7.72-7.72 1.47 1.35L5.41 20z\"/>\n",
              "  </svg>\n",
              "      </button>\n",
              "      \n",
              "  <style>\n",
              "    .colab-df-container {\n",
              "      display:flex;\n",
              "      flex-wrap:wrap;\n",
              "      gap: 12px;\n",
              "    }\n",
              "\n",
              "    .colab-df-convert {\n",
              "      background-color: #E8F0FE;\n",
              "      border: none;\n",
              "      border-radius: 50%;\n",
              "      cursor: pointer;\n",
              "      display: none;\n",
              "      fill: #1967D2;\n",
              "      height: 32px;\n",
              "      padding: 0 0 0 0;\n",
              "      width: 32px;\n",
              "    }\n",
              "\n",
              "    .colab-df-convert:hover {\n",
              "      background-color: #E2EBFA;\n",
              "      box-shadow: 0px 1px 2px rgba(60, 64, 67, 0.3), 0px 1px 3px 1px rgba(60, 64, 67, 0.15);\n",
              "      fill: #174EA6;\n",
              "    }\n",
              "\n",
              "    [theme=dark] .colab-df-convert {\n",
              "      background-color: #3B4455;\n",
              "      fill: #D2E3FC;\n",
              "    }\n",
              "\n",
              "    [theme=dark] .colab-df-convert:hover {\n",
              "      background-color: #434B5C;\n",
              "      box-shadow: 0px 1px 3px 1px rgba(0, 0, 0, 0.15);\n",
              "      filter: drop-shadow(0px 1px 2px rgba(0, 0, 0, 0.3));\n",
              "      fill: #FFFFFF;\n",
              "    }\n",
              "  </style>\n",
              "\n",
              "      <script>\n",
              "        const buttonEl =\n",
              "          document.querySelector('#df-409ba8ea-be18-407c-9cd4-d12622ae5ea6 button.colab-df-convert');\n",
              "        buttonEl.style.display =\n",
              "          google.colab.kernel.accessAllowed ? 'block' : 'none';\n",
              "\n",
              "        async function convertToInteractive(key) {\n",
              "          const element = document.querySelector('#df-409ba8ea-be18-407c-9cd4-d12622ae5ea6');\n",
              "          const dataTable =\n",
              "            await google.colab.kernel.invokeFunction('convertToInteractive',\n",
              "                                                     [key], {});\n",
              "          if (!dataTable) return;\n",
              "\n",
              "          const docLinkHtml = 'Like what you see? Visit the ' +\n",
              "            '<a target=\"_blank\" href=https://colab.research.google.com/notebooks/data_table.ipynb>data table notebook</a>'\n",
              "            + ' to learn more about interactive tables.';\n",
              "          element.innerHTML = '';\n",
              "          dataTable['output_type'] = 'display_data';\n",
              "          await google.colab.output.renderOutput(dataTable, element);\n",
              "          const docLink = document.createElement('div');\n",
              "          docLink.innerHTML = docLinkHtml;\n",
              "          element.appendChild(docLink);\n",
              "        }\n",
              "      </script>\n",
              "    </div>\n",
              "  </div>\n",
              "  "
            ]
          },
          "metadata": {},
          "execution_count": 10
        }
      ],
      "source": [
        "f = open(\"testlist01.txt\", \"r\")\n",
        "temp = f.read()\n",
        "videos = temp.split('\\n')\n",
        "# creating a dataframe having video names\n",
        "test = pd.DataFrame()\n",
        "test['video_name'] = videos\n",
        "test = test[:-1]\n",
        "test.head()"
      ]
    },
    {
      "cell_type": "code",
      "execution_count": null,
      "metadata": {
        "colab": {
          "base_uri": "https://localhost:8080/",
          "height": 35
        },
        "id": "gUZ9hpkXVS85",
        "outputId": "7288bd88-ffe2-4365-9ef0-29be4dfc4686"
      },
      "outputs": [
        {
          "output_type": "execute_result",
          "data": {
            "text/plain": [
              "'ApplyEyeMakeup/v_ApplyEyeMakeup_g01_c02.avi'"
            ],
            "application/vnd.google.colaboratory.intrinsic+json": {
              "type": "string"
            }
          },
          "metadata": {},
          "execution_count": 11
        }
      ],
      "source": [
        "test['video_name'].iloc[1]"
      ]
    },
    {
      "cell_type": "code",
      "execution_count": null,
      "metadata": {
        "id": "6rvCvbdZMwF8"
      },
      "outputs": [],
      "source": [
        "# creating tags for training videos\n",
        "train_video_tag = []\n",
        "for i in range(train.shape[0]):\n",
        "   train_video_tag.append(train['video_name'][i].split('/')[0])  \n",
        "train['tag'] = train_video_tag\n",
        "# creating tags for test videos\n",
        "test_video_tag = []\n",
        "for i in range(test.shape[0]):\n",
        "   test_video_tag.append(test['video_name'][i].split('/')[0])  \n",
        "test['tag'] = test_video_tag"
      ]
    },
    {
      "cell_type": "code",
      "execution_count": null,
      "metadata": {
        "colab": {
          "base_uri": "https://localhost:8080/",
          "height": 206
        },
        "id": "g5aeCVpjW2E8",
        "outputId": "efe31915-3dee-493f-c841-a4ff75896f96"
      },
      "outputs": [
        {
          "output_type": "execute_result",
          "data": {
            "text/plain": [
              "                                      video_name             tag\n",
              "0  ApplyEyeMakeup/v_ApplyEyeMakeup_g08_c01.avi 1  ApplyEyeMakeup\n",
              "1  ApplyEyeMakeup/v_ApplyEyeMakeup_g08_c02.avi 1  ApplyEyeMakeup\n",
              "2  ApplyEyeMakeup/v_ApplyEyeMakeup_g08_c03.avi 1  ApplyEyeMakeup\n",
              "3  ApplyEyeMakeup/v_ApplyEyeMakeup_g08_c04.avi 1  ApplyEyeMakeup\n",
              "4  ApplyEyeMakeup/v_ApplyEyeMakeup_g08_c05.avi 1  ApplyEyeMakeup"
            ],
            "text/html": [
              "\n",
              "  <div id=\"df-825502ab-8abb-46b6-9833-7fb0b6e8db93\">\n",
              "    <div class=\"colab-df-container\">\n",
              "      <div>\n",
              "<style scoped>\n",
              "    .dataframe tbody tr th:only-of-type {\n",
              "        vertical-align: middle;\n",
              "    }\n",
              "\n",
              "    .dataframe tbody tr th {\n",
              "        vertical-align: top;\n",
              "    }\n",
              "\n",
              "    .dataframe thead th {\n",
              "        text-align: right;\n",
              "    }\n",
              "</style>\n",
              "<table border=\"1\" class=\"dataframe\">\n",
              "  <thead>\n",
              "    <tr style=\"text-align: right;\">\n",
              "      <th></th>\n",
              "      <th>video_name</th>\n",
              "      <th>tag</th>\n",
              "    </tr>\n",
              "  </thead>\n",
              "  <tbody>\n",
              "    <tr>\n",
              "      <th>0</th>\n",
              "      <td>ApplyEyeMakeup/v_ApplyEyeMakeup_g08_c01.avi 1</td>\n",
              "      <td>ApplyEyeMakeup</td>\n",
              "    </tr>\n",
              "    <tr>\n",
              "      <th>1</th>\n",
              "      <td>ApplyEyeMakeup/v_ApplyEyeMakeup_g08_c02.avi 1</td>\n",
              "      <td>ApplyEyeMakeup</td>\n",
              "    </tr>\n",
              "    <tr>\n",
              "      <th>2</th>\n",
              "      <td>ApplyEyeMakeup/v_ApplyEyeMakeup_g08_c03.avi 1</td>\n",
              "      <td>ApplyEyeMakeup</td>\n",
              "    </tr>\n",
              "    <tr>\n",
              "      <th>3</th>\n",
              "      <td>ApplyEyeMakeup/v_ApplyEyeMakeup_g08_c04.avi 1</td>\n",
              "      <td>ApplyEyeMakeup</td>\n",
              "    </tr>\n",
              "    <tr>\n",
              "      <th>4</th>\n",
              "      <td>ApplyEyeMakeup/v_ApplyEyeMakeup_g08_c05.avi 1</td>\n",
              "      <td>ApplyEyeMakeup</td>\n",
              "    </tr>\n",
              "  </tbody>\n",
              "</table>\n",
              "</div>\n",
              "      <button class=\"colab-df-convert\" onclick=\"convertToInteractive('df-825502ab-8abb-46b6-9833-7fb0b6e8db93')\"\n",
              "              title=\"Convert this dataframe to an interactive table.\"\n",
              "              style=\"display:none;\">\n",
              "        \n",
              "  <svg xmlns=\"http://www.w3.org/2000/svg\" height=\"24px\"viewBox=\"0 0 24 24\"\n",
              "       width=\"24px\">\n",
              "    <path d=\"M0 0h24v24H0V0z\" fill=\"none\"/>\n",
              "    <path d=\"M18.56 5.44l.94 2.06.94-2.06 2.06-.94-2.06-.94-.94-2.06-.94 2.06-2.06.94zm-11 1L8.5 8.5l.94-2.06 2.06-.94-2.06-.94L8.5 2.5l-.94 2.06-2.06.94zm10 10l.94 2.06.94-2.06 2.06-.94-2.06-.94-.94-2.06-.94 2.06-2.06.94z\"/><path d=\"M17.41 7.96l-1.37-1.37c-.4-.4-.92-.59-1.43-.59-.52 0-1.04.2-1.43.59L10.3 9.45l-7.72 7.72c-.78.78-.78 2.05 0 2.83L4 21.41c.39.39.9.59 1.41.59.51 0 1.02-.2 1.41-.59l7.78-7.78 2.81-2.81c.8-.78.8-2.07 0-2.86zM5.41 20L4 18.59l7.72-7.72 1.47 1.35L5.41 20z\"/>\n",
              "  </svg>\n",
              "      </button>\n",
              "      \n",
              "  <style>\n",
              "    .colab-df-container {\n",
              "      display:flex;\n",
              "      flex-wrap:wrap;\n",
              "      gap: 12px;\n",
              "    }\n",
              "\n",
              "    .colab-df-convert {\n",
              "      background-color: #E8F0FE;\n",
              "      border: none;\n",
              "      border-radius: 50%;\n",
              "      cursor: pointer;\n",
              "      display: none;\n",
              "      fill: #1967D2;\n",
              "      height: 32px;\n",
              "      padding: 0 0 0 0;\n",
              "      width: 32px;\n",
              "    }\n",
              "\n",
              "    .colab-df-convert:hover {\n",
              "      background-color: #E2EBFA;\n",
              "      box-shadow: 0px 1px 2px rgba(60, 64, 67, 0.3), 0px 1px 3px 1px rgba(60, 64, 67, 0.15);\n",
              "      fill: #174EA6;\n",
              "    }\n",
              "\n",
              "    [theme=dark] .colab-df-convert {\n",
              "      background-color: #3B4455;\n",
              "      fill: #D2E3FC;\n",
              "    }\n",
              "\n",
              "    [theme=dark] .colab-df-convert:hover {\n",
              "      background-color: #434B5C;\n",
              "      box-shadow: 0px 1px 3px 1px rgba(0, 0, 0, 0.15);\n",
              "      filter: drop-shadow(0px 1px 2px rgba(0, 0, 0, 0.3));\n",
              "      fill: #FFFFFF;\n",
              "    }\n",
              "  </style>\n",
              "\n",
              "      <script>\n",
              "        const buttonEl =\n",
              "          document.querySelector('#df-825502ab-8abb-46b6-9833-7fb0b6e8db93 button.colab-df-convert');\n",
              "        buttonEl.style.display =\n",
              "          google.colab.kernel.accessAllowed ? 'block' : 'none';\n",
              "\n",
              "        async function convertToInteractive(key) {\n",
              "          const element = document.querySelector('#df-825502ab-8abb-46b6-9833-7fb0b6e8db93');\n",
              "          const dataTable =\n",
              "            await google.colab.kernel.invokeFunction('convertToInteractive',\n",
              "                                                     [key], {});\n",
              "          if (!dataTable) return;\n",
              "\n",
              "          const docLinkHtml = 'Like what you see? Visit the ' +\n",
              "            '<a target=\"_blank\" href=https://colab.research.google.com/notebooks/data_table.ipynb>data table notebook</a>'\n",
              "            + ' to learn more about interactive tables.';\n",
              "          element.innerHTML = '';\n",
              "          dataTable['output_type'] = 'display_data';\n",
              "          await google.colab.output.renderOutput(dataTable, element);\n",
              "          const docLink = document.createElement('div');\n",
              "          docLink.innerHTML = docLinkHtml;\n",
              "          element.appendChild(docLink);\n",
              "        }\n",
              "      </script>\n",
              "    </div>\n",
              "  </div>\n",
              "  "
            ]
          },
          "metadata": {},
          "execution_count": 13
        }
      ],
      "source": [
        "train.head()"
      ]
    },
    {
      "cell_type": "code",
      "execution_count": null,
      "metadata": {
        "colab": {
          "base_uri": "https://localhost:8080/",
          "height": 206
        },
        "id": "BHsS1ClyW9gN",
        "outputId": "d74db35a-a3a7-4bc6-c794-1bb32bfd1f7c"
      },
      "outputs": [
        {
          "output_type": "execute_result",
          "data": {
            "text/plain": [
              "                                    video_name             tag\n",
              "0  ApplyEyeMakeup/v_ApplyEyeMakeup_g01_c01.avi  ApplyEyeMakeup\n",
              "1  ApplyEyeMakeup/v_ApplyEyeMakeup_g01_c02.avi  ApplyEyeMakeup\n",
              "2  ApplyEyeMakeup/v_ApplyEyeMakeup_g01_c03.avi  ApplyEyeMakeup\n",
              "3  ApplyEyeMakeup/v_ApplyEyeMakeup_g01_c04.avi  ApplyEyeMakeup\n",
              "4  ApplyEyeMakeup/v_ApplyEyeMakeup_g01_c05.avi  ApplyEyeMakeup"
            ],
            "text/html": [
              "\n",
              "  <div id=\"df-07208f0f-9284-44f4-8c2e-cea35807f490\">\n",
              "    <div class=\"colab-df-container\">\n",
              "      <div>\n",
              "<style scoped>\n",
              "    .dataframe tbody tr th:only-of-type {\n",
              "        vertical-align: middle;\n",
              "    }\n",
              "\n",
              "    .dataframe tbody tr th {\n",
              "        vertical-align: top;\n",
              "    }\n",
              "\n",
              "    .dataframe thead th {\n",
              "        text-align: right;\n",
              "    }\n",
              "</style>\n",
              "<table border=\"1\" class=\"dataframe\">\n",
              "  <thead>\n",
              "    <tr style=\"text-align: right;\">\n",
              "      <th></th>\n",
              "      <th>video_name</th>\n",
              "      <th>tag</th>\n",
              "    </tr>\n",
              "  </thead>\n",
              "  <tbody>\n",
              "    <tr>\n",
              "      <th>0</th>\n",
              "      <td>ApplyEyeMakeup/v_ApplyEyeMakeup_g01_c01.avi</td>\n",
              "      <td>ApplyEyeMakeup</td>\n",
              "    </tr>\n",
              "    <tr>\n",
              "      <th>1</th>\n",
              "      <td>ApplyEyeMakeup/v_ApplyEyeMakeup_g01_c02.avi</td>\n",
              "      <td>ApplyEyeMakeup</td>\n",
              "    </tr>\n",
              "    <tr>\n",
              "      <th>2</th>\n",
              "      <td>ApplyEyeMakeup/v_ApplyEyeMakeup_g01_c03.avi</td>\n",
              "      <td>ApplyEyeMakeup</td>\n",
              "    </tr>\n",
              "    <tr>\n",
              "      <th>3</th>\n",
              "      <td>ApplyEyeMakeup/v_ApplyEyeMakeup_g01_c04.avi</td>\n",
              "      <td>ApplyEyeMakeup</td>\n",
              "    </tr>\n",
              "    <tr>\n",
              "      <th>4</th>\n",
              "      <td>ApplyEyeMakeup/v_ApplyEyeMakeup_g01_c05.avi</td>\n",
              "      <td>ApplyEyeMakeup</td>\n",
              "    </tr>\n",
              "  </tbody>\n",
              "</table>\n",
              "</div>\n",
              "      <button class=\"colab-df-convert\" onclick=\"convertToInteractive('df-07208f0f-9284-44f4-8c2e-cea35807f490')\"\n",
              "              title=\"Convert this dataframe to an interactive table.\"\n",
              "              style=\"display:none;\">\n",
              "        \n",
              "  <svg xmlns=\"http://www.w3.org/2000/svg\" height=\"24px\"viewBox=\"0 0 24 24\"\n",
              "       width=\"24px\">\n",
              "    <path d=\"M0 0h24v24H0V0z\" fill=\"none\"/>\n",
              "    <path d=\"M18.56 5.44l.94 2.06.94-2.06 2.06-.94-2.06-.94-.94-2.06-.94 2.06-2.06.94zm-11 1L8.5 8.5l.94-2.06 2.06-.94-2.06-.94L8.5 2.5l-.94 2.06-2.06.94zm10 10l.94 2.06.94-2.06 2.06-.94-2.06-.94-.94-2.06-.94 2.06-2.06.94z\"/><path d=\"M17.41 7.96l-1.37-1.37c-.4-.4-.92-.59-1.43-.59-.52 0-1.04.2-1.43.59L10.3 9.45l-7.72 7.72c-.78.78-.78 2.05 0 2.83L4 21.41c.39.39.9.59 1.41.59.51 0 1.02-.2 1.41-.59l7.78-7.78 2.81-2.81c.8-.78.8-2.07 0-2.86zM5.41 20L4 18.59l7.72-7.72 1.47 1.35L5.41 20z\"/>\n",
              "  </svg>\n",
              "      </button>\n",
              "      \n",
              "  <style>\n",
              "    .colab-df-container {\n",
              "      display:flex;\n",
              "      flex-wrap:wrap;\n",
              "      gap: 12px;\n",
              "    }\n",
              "\n",
              "    .colab-df-convert {\n",
              "      background-color: #E8F0FE;\n",
              "      border: none;\n",
              "      border-radius: 50%;\n",
              "      cursor: pointer;\n",
              "      display: none;\n",
              "      fill: #1967D2;\n",
              "      height: 32px;\n",
              "      padding: 0 0 0 0;\n",
              "      width: 32px;\n",
              "    }\n",
              "\n",
              "    .colab-df-convert:hover {\n",
              "      background-color: #E2EBFA;\n",
              "      box-shadow: 0px 1px 2px rgba(60, 64, 67, 0.3), 0px 1px 3px 1px rgba(60, 64, 67, 0.15);\n",
              "      fill: #174EA6;\n",
              "    }\n",
              "\n",
              "    [theme=dark] .colab-df-convert {\n",
              "      background-color: #3B4455;\n",
              "      fill: #D2E3FC;\n",
              "    }\n",
              "\n",
              "    [theme=dark] .colab-df-convert:hover {\n",
              "      background-color: #434B5C;\n",
              "      box-shadow: 0px 1px 3px 1px rgba(0, 0, 0, 0.15);\n",
              "      filter: drop-shadow(0px 1px 2px rgba(0, 0, 0, 0.3));\n",
              "      fill: #FFFFFF;\n",
              "    }\n",
              "  </style>\n",
              "\n",
              "      <script>\n",
              "        const buttonEl =\n",
              "          document.querySelector('#df-07208f0f-9284-44f4-8c2e-cea35807f490 button.colab-df-convert');\n",
              "        buttonEl.style.display =\n",
              "          google.colab.kernel.accessAllowed ? 'block' : 'none';\n",
              "\n",
              "        async function convertToInteractive(key) {\n",
              "          const element = document.querySelector('#df-07208f0f-9284-44f4-8c2e-cea35807f490');\n",
              "          const dataTable =\n",
              "            await google.colab.kernel.invokeFunction('convertToInteractive',\n",
              "                                                     [key], {});\n",
              "          if (!dataTable) return;\n",
              "\n",
              "          const docLinkHtml = 'Like what you see? Visit the ' +\n",
              "            '<a target=\"_blank\" href=https://colab.research.google.com/notebooks/data_table.ipynb>data table notebook</a>'\n",
              "            + ' to learn more about interactive tables.';\n",
              "          element.innerHTML = '';\n",
              "          dataTable['output_type'] = 'display_data';\n",
              "          await google.colab.output.renderOutput(dataTable, element);\n",
              "          const docLink = document.createElement('div');\n",
              "          docLink.innerHTML = docLinkHtml;\n",
              "          element.appendChild(docLink);\n",
              "        }\n",
              "      </script>\n",
              "    </div>\n",
              "  </div>\n",
              "  "
            ]
          },
          "metadata": {},
          "execution_count": 14
        }
      ],
      "source": [
        "test.head()"
      ]
    },
    {
      "cell_type": "code",
      "execution_count": null,
      "metadata": {
        "colab": {
          "base_uri": "https://localhost:8080/",
          "height": 112
        },
        "id": "z6BIpKnpdOLQ",
        "outputId": "0ffe5779-a591-44f2-df36-dbd79b67dc2b"
      },
      "outputs": [
        {
          "output_type": "execute_result",
          "data": {
            "text/plain": [
              "                                      video_name             tag\n",
              "0  ApplyEyeMakeup/v_ApplyEyeMakeup_g08_c01.avi 1  ApplyEyeMakeup\n",
              "1  ApplyEyeMakeup/v_ApplyEyeMakeup_g08_c02.avi 1  ApplyEyeMakeup"
            ],
            "text/html": [
              "\n",
              "  <div id=\"df-34f63636-bd58-4884-896a-9ee19c79ea9d\">\n",
              "    <div class=\"colab-df-container\">\n",
              "      <div>\n",
              "<style scoped>\n",
              "    .dataframe tbody tr th:only-of-type {\n",
              "        vertical-align: middle;\n",
              "    }\n",
              "\n",
              "    .dataframe tbody tr th {\n",
              "        vertical-align: top;\n",
              "    }\n",
              "\n",
              "    .dataframe thead th {\n",
              "        text-align: right;\n",
              "    }\n",
              "</style>\n",
              "<table border=\"1\" class=\"dataframe\">\n",
              "  <thead>\n",
              "    <tr style=\"text-align: right;\">\n",
              "      <th></th>\n",
              "      <th>video_name</th>\n",
              "      <th>tag</th>\n",
              "    </tr>\n",
              "  </thead>\n",
              "  <tbody>\n",
              "    <tr>\n",
              "      <th>0</th>\n",
              "      <td>ApplyEyeMakeup/v_ApplyEyeMakeup_g08_c01.avi 1</td>\n",
              "      <td>ApplyEyeMakeup</td>\n",
              "    </tr>\n",
              "    <tr>\n",
              "      <th>1</th>\n",
              "      <td>ApplyEyeMakeup/v_ApplyEyeMakeup_g08_c02.avi 1</td>\n",
              "      <td>ApplyEyeMakeup</td>\n",
              "    </tr>\n",
              "  </tbody>\n",
              "</table>\n",
              "</div>\n",
              "      <button class=\"colab-df-convert\" onclick=\"convertToInteractive('df-34f63636-bd58-4884-896a-9ee19c79ea9d')\"\n",
              "              title=\"Convert this dataframe to an interactive table.\"\n",
              "              style=\"display:none;\">\n",
              "        \n",
              "  <svg xmlns=\"http://www.w3.org/2000/svg\" height=\"24px\"viewBox=\"0 0 24 24\"\n",
              "       width=\"24px\">\n",
              "    <path d=\"M0 0h24v24H0V0z\" fill=\"none\"/>\n",
              "    <path d=\"M18.56 5.44l.94 2.06.94-2.06 2.06-.94-2.06-.94-.94-2.06-.94 2.06-2.06.94zm-11 1L8.5 8.5l.94-2.06 2.06-.94-2.06-.94L8.5 2.5l-.94 2.06-2.06.94zm10 10l.94 2.06.94-2.06 2.06-.94-2.06-.94-.94-2.06-.94 2.06-2.06.94z\"/><path d=\"M17.41 7.96l-1.37-1.37c-.4-.4-.92-.59-1.43-.59-.52 0-1.04.2-1.43.59L10.3 9.45l-7.72 7.72c-.78.78-.78 2.05 0 2.83L4 21.41c.39.39.9.59 1.41.59.51 0 1.02-.2 1.41-.59l7.78-7.78 2.81-2.81c.8-.78.8-2.07 0-2.86zM5.41 20L4 18.59l7.72-7.72 1.47 1.35L5.41 20z\"/>\n",
              "  </svg>\n",
              "      </button>\n",
              "      \n",
              "  <style>\n",
              "    .colab-df-container {\n",
              "      display:flex;\n",
              "      flex-wrap:wrap;\n",
              "      gap: 12px;\n",
              "    }\n",
              "\n",
              "    .colab-df-convert {\n",
              "      background-color: #E8F0FE;\n",
              "      border: none;\n",
              "      border-radius: 50%;\n",
              "      cursor: pointer;\n",
              "      display: none;\n",
              "      fill: #1967D2;\n",
              "      height: 32px;\n",
              "      padding: 0 0 0 0;\n",
              "      width: 32px;\n",
              "    }\n",
              "\n",
              "    .colab-df-convert:hover {\n",
              "      background-color: #E2EBFA;\n",
              "      box-shadow: 0px 1px 2px rgba(60, 64, 67, 0.3), 0px 1px 3px 1px rgba(60, 64, 67, 0.15);\n",
              "      fill: #174EA6;\n",
              "    }\n",
              "\n",
              "    [theme=dark] .colab-df-convert {\n",
              "      background-color: #3B4455;\n",
              "      fill: #D2E3FC;\n",
              "    }\n",
              "\n",
              "    [theme=dark] .colab-df-convert:hover {\n",
              "      background-color: #434B5C;\n",
              "      box-shadow: 0px 1px 3px 1px rgba(0, 0, 0, 0.15);\n",
              "      filter: drop-shadow(0px 1px 2px rgba(0, 0, 0, 0.3));\n",
              "      fill: #FFFFFF;\n",
              "    }\n",
              "  </style>\n",
              "\n",
              "      <script>\n",
              "        const buttonEl =\n",
              "          document.querySelector('#df-34f63636-bd58-4884-896a-9ee19c79ea9d button.colab-df-convert');\n",
              "        buttonEl.style.display =\n",
              "          google.colab.kernel.accessAllowed ? 'block' : 'none';\n",
              "\n",
              "        async function convertToInteractive(key) {\n",
              "          const element = document.querySelector('#df-34f63636-bd58-4884-896a-9ee19c79ea9d');\n",
              "          const dataTable =\n",
              "            await google.colab.kernel.invokeFunction('convertToInteractive',\n",
              "                                                     [key], {});\n",
              "          if (!dataTable) return;\n",
              "\n",
              "          const docLinkHtml = 'Like what you see? Visit the ' +\n",
              "            '<a target=\"_blank\" href=https://colab.research.google.com/notebooks/data_table.ipynb>data table notebook</a>'\n",
              "            + ' to learn more about interactive tables.';\n",
              "          element.innerHTML = '';\n",
              "          dataTable['output_type'] = 'display_data';\n",
              "          await google.colab.output.renderOutput(dataTable, element);\n",
              "          const docLink = document.createElement('div');\n",
              "          docLink.innerHTML = docLinkHtml;\n",
              "          element.appendChild(docLink);\n",
              "        }\n",
              "      </script>\n",
              "    </div>\n",
              "  </div>\n",
              "  "
            ]
          },
          "metadata": {},
          "execution_count": 15
        }
      ],
      "source": [
        "train.head(2)"
      ]
    },
    {
      "cell_type": "code",
      "execution_count": null,
      "metadata": {
        "id": "3-WjJWlHg0BV"
      },
      "outputs": [],
      "source": [
        "!mkdir '/content/gdrive/MyDrive/KBS/train/' #create train folder"
      ]
    },
    {
      "cell_type": "code",
      "execution_count": null,
      "metadata": {
        "colab": {
          "base_uri": "https://localhost:8080/"
        },
        "id": "CT-Ch-yKMwNg",
        "outputId": "7aeb285c-8aec-44b5-e4e0-b1c41764dbf9"
      },
      "outputs": [
        {
          "output_type": "stream",
          "name": "stderr",
          "text": [
            "100%|██████████| 9537/9537 [05:10<00:00, 30.74it/s]  \n"
          ]
        }
      ],
      "source": [
        "# storing the frames from training videos\n",
        "for i in tqdm(range(train.shape[0])):\n",
        "   count = 0\n",
        "   videoFile = train['video_name'][i]\n",
        "   cap = cv2.VideoCapture('/content/gdrive/MyDrive/KBS/UFC-101/'+videoFile.split(' ')[0])   # capturing the video from the given path\n",
        "   frameRate = cap.get(6) #frame rate\n",
        "   x=1\n",
        "   while(cap.isOpened()):\n",
        "       frameId = cap.get(1) #current frame number\n",
        "       ret, frame = cap.read()\n",
        "       if (ret != True):\n",
        "           break\n",
        "       if (frameId % math.floor(frameRate) == 0):\n",
        "           # storing the frames in a new folder named train_1\n",
        "           filename ='/content/gdrive/MyDrive/KBS/train/' + videoFile.split('/')[1].split(' ')[0] +\"_frame%d.jpg\" % count;count+=1\n",
        "           cv2.imwrite(filename, frame)\n",
        "   cap.release()"
      ]
    },
    {
      "cell_type": "code",
      "execution_count": null,
      "metadata": {
        "colab": {
          "base_uri": "https://localhost:8080/"
        },
        "id": "pKFHxEtk4SuJ",
        "outputId": "db4bd84e-302e-47ae-952f-e26ced01c06a"
      },
      "outputs": [
        {
          "output_type": "execute_result",
          "data": {
            "text/plain": [
              "['/content/gdrive/MyDrive/KBS/train/v_ApplyEyeMakeup_g08_c01.avi_frame0.jpg',\n",
              " '/content/gdrive/MyDrive/KBS/train/v_ApplyEyeMakeup_g08_c02.avi_frame0.jpg',\n",
              " '/content/gdrive/MyDrive/KBS/train/v_ApplyEyeMakeup_g08_c03.avi_frame0.jpg',\n",
              " '/content/gdrive/MyDrive/KBS/train/v_ApplyEyeMakeup_g08_c04.avi_frame0.jpg',\n",
              " '/content/gdrive/MyDrive/KBS/train/v_ApplyEyeMakeup_g08_c05.avi_frame0.jpg',\n",
              " '/content/gdrive/MyDrive/KBS/train/v_ApplyEyeMakeup_g09_c01.avi_frame0.jpg',\n",
              " '/content/gdrive/MyDrive/KBS/train/v_ApplyEyeMakeup_g09_c02.avi_frame0.jpg',\n",
              " '/content/gdrive/MyDrive/KBS/train/v_ApplyEyeMakeup_g09_c03.avi_frame0.jpg',\n",
              " '/content/gdrive/MyDrive/KBS/train/v_ApplyEyeMakeup_g09_c04.avi_frame0.jpg',\n",
              " '/content/gdrive/MyDrive/KBS/train/v_ApplyEyeMakeup_g09_c05.avi_frame0.jpg']"
            ]
          },
          "metadata": {},
          "execution_count": 18
        }
      ],
      "source": [
        "images = glob(\"/content/gdrive/MyDrive/KBS/train/*.jpg\")\n",
        "images[:10]"
      ]
    },
    {
      "cell_type": "code",
      "execution_count": null,
      "metadata": {
        "colab": {
          "base_uri": "https://localhost:8080/"
        },
        "id": "BQegEHhSMwUL",
        "outputId": "129365c5-4f9c-4268-9718-009af707c0f1"
      },
      "outputs": [
        {
          "output_type": "stream",
          "name": "stderr",
          "text": [
            "100%|██████████| 680/680 [00:00<00:00, 379524.51it/s]\n"
          ]
        }
      ],
      "source": [
        "# getting the names of all the images\n",
        "images = glob(\"/content/gdrive/MyDrive/KBS/train/*.jpg\")\n",
        "train_image = []\n",
        "train_class = []\n",
        "for i in tqdm(range(len(images))):\n",
        "   # creating the image name\n",
        "   train_image.append(images[i].split('/')[-1])\n",
        "   # creating the class of image\n",
        "   train_class.append(images[i].split('/')[-1].split('_')[1])  \n",
        "# storing the images and their class in a dataframe\n",
        "train_data = pd.DataFrame()\n",
        "train_data['image'] = train_image\n",
        "train_data['class'] = train_class\n",
        "# converting the dataframe into csv file\n",
        "train_data.to_csv('/content/gdrive/MyDrive/KBS/train_new.csv',header=True, index=False)\n"
      ]
    },
    {
      "cell_type": "markdown",
      "metadata": {
        "id": "UujUd5HhMwZp"
      },
      "source": [
        "So far, we have extracted frames from all the training videos and saved them in a .csv file along with their corresponding tags. Now we have to train our model which we will use to predict the tags for videos in the test set."
      ]
    },
    {
      "cell_type": "code",
      "execution_count": null,
      "metadata": {
        "colab": {
          "base_uri": "https://localhost:8080/",
          "height": 112
        },
        "id": "c6eTOj4LMwe1",
        "outputId": "b6b1e0ed-994b-40f2-8165-a69ebfb2595d"
      },
      "outputs": [
        {
          "output_type": "execute_result",
          "data": {
            "text/plain": [
              "                                     image           class\n",
              "0  v_ApplyEyeMakeup_g08_c01.avi_frame0.jpg  ApplyEyeMakeup\n",
              "1  v_ApplyEyeMakeup_g08_c02.avi_frame0.jpg  ApplyEyeMakeup"
            ],
            "text/html": [
              "\n",
              "  <div id=\"df-31d7f967-0c91-49ae-ab36-6997731e08b3\">\n",
              "    <div class=\"colab-df-container\">\n",
              "      <div>\n",
              "<style scoped>\n",
              "    .dataframe tbody tr th:only-of-type {\n",
              "        vertical-align: middle;\n",
              "    }\n",
              "\n",
              "    .dataframe tbody tr th {\n",
              "        vertical-align: top;\n",
              "    }\n",
              "\n",
              "    .dataframe thead th {\n",
              "        text-align: right;\n",
              "    }\n",
              "</style>\n",
              "<table border=\"1\" class=\"dataframe\">\n",
              "  <thead>\n",
              "    <tr style=\"text-align: right;\">\n",
              "      <th></th>\n",
              "      <th>image</th>\n",
              "      <th>class</th>\n",
              "    </tr>\n",
              "  </thead>\n",
              "  <tbody>\n",
              "    <tr>\n",
              "      <th>0</th>\n",
              "      <td>v_ApplyEyeMakeup_g08_c01.avi_frame0.jpg</td>\n",
              "      <td>ApplyEyeMakeup</td>\n",
              "    </tr>\n",
              "    <tr>\n",
              "      <th>1</th>\n",
              "      <td>v_ApplyEyeMakeup_g08_c02.avi_frame0.jpg</td>\n",
              "      <td>ApplyEyeMakeup</td>\n",
              "    </tr>\n",
              "  </tbody>\n",
              "</table>\n",
              "</div>\n",
              "      <button class=\"colab-df-convert\" onclick=\"convertToInteractive('df-31d7f967-0c91-49ae-ab36-6997731e08b3')\"\n",
              "              title=\"Convert this dataframe to an interactive table.\"\n",
              "              style=\"display:none;\">\n",
              "        \n",
              "  <svg xmlns=\"http://www.w3.org/2000/svg\" height=\"24px\"viewBox=\"0 0 24 24\"\n",
              "       width=\"24px\">\n",
              "    <path d=\"M0 0h24v24H0V0z\" fill=\"none\"/>\n",
              "    <path d=\"M18.56 5.44l.94 2.06.94-2.06 2.06-.94-2.06-.94-.94-2.06-.94 2.06-2.06.94zm-11 1L8.5 8.5l.94-2.06 2.06-.94-2.06-.94L8.5 2.5l-.94 2.06-2.06.94zm10 10l.94 2.06.94-2.06 2.06-.94-2.06-.94-.94-2.06-.94 2.06-2.06.94z\"/><path d=\"M17.41 7.96l-1.37-1.37c-.4-.4-.92-.59-1.43-.59-.52 0-1.04.2-1.43.59L10.3 9.45l-7.72 7.72c-.78.78-.78 2.05 0 2.83L4 21.41c.39.39.9.59 1.41.59.51 0 1.02-.2 1.41-.59l7.78-7.78 2.81-2.81c.8-.78.8-2.07 0-2.86zM5.41 20L4 18.59l7.72-7.72 1.47 1.35L5.41 20z\"/>\n",
              "  </svg>\n",
              "      </button>\n",
              "      \n",
              "  <style>\n",
              "    .colab-df-container {\n",
              "      display:flex;\n",
              "      flex-wrap:wrap;\n",
              "      gap: 12px;\n",
              "    }\n",
              "\n",
              "    .colab-df-convert {\n",
              "      background-color: #E8F0FE;\n",
              "      border: none;\n",
              "      border-radius: 50%;\n",
              "      cursor: pointer;\n",
              "      display: none;\n",
              "      fill: #1967D2;\n",
              "      height: 32px;\n",
              "      padding: 0 0 0 0;\n",
              "      width: 32px;\n",
              "    }\n",
              "\n",
              "    .colab-df-convert:hover {\n",
              "      background-color: #E2EBFA;\n",
              "      box-shadow: 0px 1px 2px rgba(60, 64, 67, 0.3), 0px 1px 3px 1px rgba(60, 64, 67, 0.15);\n",
              "      fill: #174EA6;\n",
              "    }\n",
              "\n",
              "    [theme=dark] .colab-df-convert {\n",
              "      background-color: #3B4455;\n",
              "      fill: #D2E3FC;\n",
              "    }\n",
              "\n",
              "    [theme=dark] .colab-df-convert:hover {\n",
              "      background-color: #434B5C;\n",
              "      box-shadow: 0px 1px 3px 1px rgba(0, 0, 0, 0.15);\n",
              "      filter: drop-shadow(0px 1px 2px rgba(0, 0, 0, 0.3));\n",
              "      fill: #FFFFFF;\n",
              "    }\n",
              "  </style>\n",
              "\n",
              "      <script>\n",
              "        const buttonEl =\n",
              "          document.querySelector('#df-31d7f967-0c91-49ae-ab36-6997731e08b3 button.colab-df-convert');\n",
              "        buttonEl.style.display =\n",
              "          google.colab.kernel.accessAllowed ? 'block' : 'none';\n",
              "\n",
              "        async function convertToInteractive(key) {\n",
              "          const element = document.querySelector('#df-31d7f967-0c91-49ae-ab36-6997731e08b3');\n",
              "          const dataTable =\n",
              "            await google.colab.kernel.invokeFunction('convertToInteractive',\n",
              "                                                     [key], {});\n",
              "          if (!dataTable) return;\n",
              "\n",
              "          const docLinkHtml = 'Like what you see? Visit the ' +\n",
              "            '<a target=\"_blank\" href=https://colab.research.google.com/notebooks/data_table.ipynb>data table notebook</a>'\n",
              "            + ' to learn more about interactive tables.';\n",
              "          element.innerHTML = '';\n",
              "          dataTable['output_type'] = 'display_data';\n",
              "          await google.colab.output.renderOutput(dataTable, element);\n",
              "          const docLink = document.createElement('div');\n",
              "          docLink.innerHTML = docLinkHtml;\n",
              "          element.appendChild(docLink);\n",
              "        }\n",
              "      </script>\n",
              "    </div>\n",
              "  </div>\n",
              "  "
            ]
          },
          "metadata": {},
          "execution_count": 21
        }
      ],
      "source": [
        "train_data.head(2)"
      ]
    },
    {
      "cell_type": "code",
      "execution_count": null,
      "metadata": {
        "id": "lcTqUjtLMwjU"
      },
      "outputs": [],
      "source": [
        "import keras\n",
        "from keras.models import Sequential\n",
        "from keras.models import Model\n",
        "from keras.applications.inception_v3 import InceptionV3\n",
        "from keras.layers import Dense, InputLayer, Dropout, Flatten\n",
        "from keras.layers import Conv2D, MaxPooling2D, GlobalMaxPooling2D\n",
        "from keras.preprocessing import image\n",
        "import numpy as np\n",
        "import pandas as pd\n",
        "import matplotlib.pyplot as plt\n",
        "from tqdm import tqdm\n",
        "from sklearn.model_selection import train_test_split\n"
      ]
    },
    {
      "cell_type": "code",
      "execution_count": null,
      "metadata": {
        "colab": {
          "base_uri": "https://localhost:8080/",
          "height": 143
        },
        "id": "FB6ITeFDBGW4",
        "outputId": "6ea64c03-6e2c-43b6-cde0-8f838de91e11"
      },
      "outputs": [
        {
          "output_type": "execute_result",
          "data": {
            "text/plain": [
              "                                     image           class\n",
              "0  v_ApplyEyeMakeup_g08_c01.avi_frame0.jpg  ApplyEyeMakeup\n",
              "1  v_ApplyEyeMakeup_g08_c02.avi_frame0.jpg  ApplyEyeMakeup\n",
              "2  v_ApplyEyeMakeup_g08_c03.avi_frame0.jpg  ApplyEyeMakeup"
            ],
            "text/html": [
              "\n",
              "  <div id=\"df-b5a62271-9759-4d6e-90c9-e268855a96df\">\n",
              "    <div class=\"colab-df-container\">\n",
              "      <div>\n",
              "<style scoped>\n",
              "    .dataframe tbody tr th:only-of-type {\n",
              "        vertical-align: middle;\n",
              "    }\n",
              "\n",
              "    .dataframe tbody tr th {\n",
              "        vertical-align: top;\n",
              "    }\n",
              "\n",
              "    .dataframe thead th {\n",
              "        text-align: right;\n",
              "    }\n",
              "</style>\n",
              "<table border=\"1\" class=\"dataframe\">\n",
              "  <thead>\n",
              "    <tr style=\"text-align: right;\">\n",
              "      <th></th>\n",
              "      <th>image</th>\n",
              "      <th>class</th>\n",
              "    </tr>\n",
              "  </thead>\n",
              "  <tbody>\n",
              "    <tr>\n",
              "      <th>0</th>\n",
              "      <td>v_ApplyEyeMakeup_g08_c01.avi_frame0.jpg</td>\n",
              "      <td>ApplyEyeMakeup</td>\n",
              "    </tr>\n",
              "    <tr>\n",
              "      <th>1</th>\n",
              "      <td>v_ApplyEyeMakeup_g08_c02.avi_frame0.jpg</td>\n",
              "      <td>ApplyEyeMakeup</td>\n",
              "    </tr>\n",
              "    <tr>\n",
              "      <th>2</th>\n",
              "      <td>v_ApplyEyeMakeup_g08_c03.avi_frame0.jpg</td>\n",
              "      <td>ApplyEyeMakeup</td>\n",
              "    </tr>\n",
              "  </tbody>\n",
              "</table>\n",
              "</div>\n",
              "      <button class=\"colab-df-convert\" onclick=\"convertToInteractive('df-b5a62271-9759-4d6e-90c9-e268855a96df')\"\n",
              "              title=\"Convert this dataframe to an interactive table.\"\n",
              "              style=\"display:none;\">\n",
              "        \n",
              "  <svg xmlns=\"http://www.w3.org/2000/svg\" height=\"24px\"viewBox=\"0 0 24 24\"\n",
              "       width=\"24px\">\n",
              "    <path d=\"M0 0h24v24H0V0z\" fill=\"none\"/>\n",
              "    <path d=\"M18.56 5.44l.94 2.06.94-2.06 2.06-.94-2.06-.94-.94-2.06-.94 2.06-2.06.94zm-11 1L8.5 8.5l.94-2.06 2.06-.94-2.06-.94L8.5 2.5l-.94 2.06-2.06.94zm10 10l.94 2.06.94-2.06 2.06-.94-2.06-.94-.94-2.06-.94 2.06-2.06.94z\"/><path d=\"M17.41 7.96l-1.37-1.37c-.4-.4-.92-.59-1.43-.59-.52 0-1.04.2-1.43.59L10.3 9.45l-7.72 7.72c-.78.78-.78 2.05 0 2.83L4 21.41c.39.39.9.59 1.41.59.51 0 1.02-.2 1.41-.59l7.78-7.78 2.81-2.81c.8-.78.8-2.07 0-2.86zM5.41 20L4 18.59l7.72-7.72 1.47 1.35L5.41 20z\"/>\n",
              "  </svg>\n",
              "      </button>\n",
              "      \n",
              "  <style>\n",
              "    .colab-df-container {\n",
              "      display:flex;\n",
              "      flex-wrap:wrap;\n",
              "      gap: 12px;\n",
              "    }\n",
              "\n",
              "    .colab-df-convert {\n",
              "      background-color: #E8F0FE;\n",
              "      border: none;\n",
              "      border-radius: 50%;\n",
              "      cursor: pointer;\n",
              "      display: none;\n",
              "      fill: #1967D2;\n",
              "      height: 32px;\n",
              "      padding: 0 0 0 0;\n",
              "      width: 32px;\n",
              "    }\n",
              "\n",
              "    .colab-df-convert:hover {\n",
              "      background-color: #E2EBFA;\n",
              "      box-shadow: 0px 1px 2px rgba(60, 64, 67, 0.3), 0px 1px 3px 1px rgba(60, 64, 67, 0.15);\n",
              "      fill: #174EA6;\n",
              "    }\n",
              "\n",
              "    [theme=dark] .colab-df-convert {\n",
              "      background-color: #3B4455;\n",
              "      fill: #D2E3FC;\n",
              "    }\n",
              "\n",
              "    [theme=dark] .colab-df-convert:hover {\n",
              "      background-color: #434B5C;\n",
              "      box-shadow: 0px 1px 3px 1px rgba(0, 0, 0, 0.15);\n",
              "      filter: drop-shadow(0px 1px 2px rgba(0, 0, 0, 0.3));\n",
              "      fill: #FFFFFF;\n",
              "    }\n",
              "  </style>\n",
              "\n",
              "      <script>\n",
              "        const buttonEl =\n",
              "          document.querySelector('#df-b5a62271-9759-4d6e-90c9-e268855a96df button.colab-df-convert');\n",
              "        buttonEl.style.display =\n",
              "          google.colab.kernel.accessAllowed ? 'block' : 'none';\n",
              "\n",
              "        async function convertToInteractive(key) {\n",
              "          const element = document.querySelector('#df-b5a62271-9759-4d6e-90c9-e268855a96df');\n",
              "          const dataTable =\n",
              "            await google.colab.kernel.invokeFunction('convertToInteractive',\n",
              "                                                     [key], {});\n",
              "          if (!dataTable) return;\n",
              "\n",
              "          const docLinkHtml = 'Like what you see? Visit the ' +\n",
              "            '<a target=\"_blank\" href=https://colab.research.google.com/notebooks/data_table.ipynb>data table notebook</a>'\n",
              "            + ' to learn more about interactive tables.';\n",
              "          element.innerHTML = '';\n",
              "          dataTable['output_type'] = 'display_data';\n",
              "          await google.colab.output.renderOutput(dataTable, element);\n",
              "          const docLink = document.createElement('div');\n",
              "          docLink.innerHTML = docLinkHtml;\n",
              "          element.appendChild(docLink);\n",
              "        }\n",
              "      </script>\n",
              "    </div>\n",
              "  </div>\n",
              "  "
            ]
          },
          "metadata": {},
          "execution_count": 22
        }
      ],
      "source": [
        "train = pd.read_csv('/content/gdrive/MyDrive/KBS/train_new.csv')\n",
        "train.head(3)\n"
      ]
    },
    {
      "cell_type": "markdown",
      "metadata": {
        "id": "lZj22LMOBW40"
      },
      "source": [
        "We will read the frames (from this .csv file) that we extracted earlier and then store those frames as a NumPy array"
      ]
    },
    {
      "cell_type": "code",
      "execution_count": null,
      "metadata": {
        "colab": {
          "base_uri": "https://localhost:8080/"
        },
        "id": "Ae1ulYJJKXjv",
        "outputId": "42d14900-b37b-48f2-ac74-13f741c5b6d3"
      },
      "outputs": [
        {
          "output_type": "execute_result",
          "data": {
            "text/plain": [
              "680"
            ]
          },
          "metadata": {},
          "execution_count": 24
        }
      ],
      "source": [
        "len(train)"
      ]
    },
    {
      "cell_type": "code",
      "execution_count": null,
      "metadata": {
        "colab": {
          "base_uri": "https://localhost:8080/"
        },
        "id": "eUZuWZGnCD3A",
        "outputId": "0ea7c355-bae9-4232-b976-329d5a4ab0d0"
      },
      "outputs": [
        {
          "output_type": "stream",
          "name": "stderr",
          "text": [
            "100%|██████████| 680/680 [00:02<00:00, 242.82it/s]\n"
          ]
        },
        {
          "output_type": "execute_result",
          "data": {
            "text/plain": [
              "(680, 224, 224, 3)"
            ]
          },
          "metadata": {},
          "execution_count": 25
        }
      ],
      "source": [
        "# creating an empty list\n",
        "train_image = []\n",
        "# for loop to read and store frames\n",
        "for i in tqdm(range(train.shape[0])):\n",
        "   # loading the image and keeping the target size as (224,224,3)\n",
        "   img = image.image_utils.load_img('/content/gdrive/MyDrive/KBS/train/'+train['image'][i], target_size=(224,224,3))\n",
        "   # converting it to array\n",
        "   img = image.image_utils.img_to_array(img)\n",
        "   # normalizing the pixel value\n",
        "   img = img/255\n",
        "   # appending the image to the train_image list\n",
        "   train_image.append(img)  \n",
        "# converting the list to numpy array\n",
        "X = np.array(train_image)\n",
        "# shape of the array\n",
        "X.shape\n"
      ]
    },
    {
      "cell_type": "markdown",
      "source": [
        "To create the validation set, we need to make sure that the distribution of each class is similar in both training and validation sets. We can use the stratify parameter to do that:"
      ],
      "metadata": {
        "id": "FDAL4PnQDx-5"
      }
    },
    {
      "cell_type": "code",
      "execution_count": null,
      "metadata": {
        "id": "73saZBiwLpId"
      },
      "outputs": [],
      "source": [
        "# separating the target\n",
        "y = train['class']\n",
        "# creating the training and validation set\n",
        "X_train, X_test, y_train, y_test = train_test_split(X, y, random_state=40, test_size=0.2, stratify = y)"
      ]
    },
    {
      "cell_type": "markdown",
      "source": [
        "Here, stratify = y (which is the class or tags of each frame) keeps the similar distribution of classes in both the training as well as the validation set.\n"
      ],
      "metadata": {
        "id": "w_2MNiqFAyjG"
      }
    },
    {
      "cell_type": "code",
      "source": [
        "# Number of classes available\n",
        "train_data['class'].nunique()"
      ],
      "metadata": {
        "colab": {
          "base_uri": "https://localhost:8080/"
        },
        "id": "FT3SnCnSLM2L",
        "outputId": "25aad0b7-66fb-4601-a610-b7e08129df64"
      },
      "execution_count": null,
      "outputs": [
        {
          "output_type": "execute_result",
          "data": {
            "text/plain": [
              "7"
            ]
          },
          "metadata": {},
          "execution_count": 28
        }
      ]
    },
    {
      "cell_type": "markdown",
      "source": [
        "Remember – there are 24, categories in which a video can be classified. So, we will have to create 24 different columns in the target, one for each category. We will use the get_dummies() function for that"
      ],
      "metadata": {
        "id": "W5a1-9XPL3TR"
      }
    },
    {
      "cell_type": "code",
      "source": [
        "# creating dummies of target variable for train and validation set\n",
        "y_train = pd.get_dummies(y_train)\n",
        "y_test = pd.get_dummies(y_test)"
      ],
      "metadata": {
        "id": "Z4wCnCe4A5U8"
      },
      "execution_count": null,
      "outputs": []
    },
    {
      "cell_type": "code",
      "source": [
        "base_model = InceptionV3(weights='imagenet')\n",
        "model = Model(inputs=base_model.input, outputs=base_model.get_layer('avg_pool').output)"
      ],
      "metadata": {
        "colab": {
          "base_uri": "https://localhost:8080/"
        },
        "id": "rD58COvaBQSA",
        "outputId": "fa823f21-7133-4c22-b373-836bb5e21cc0"
      },
      "execution_count": null,
      "outputs": [
        {
          "output_type": "stream",
          "name": "stdout",
          "text": [
            "Downloading data from https://storage.googleapis.com/tensorflow/keras-applications/inception_v3/inception_v3_weights_tf_dim_ordering_tf_kernels.h5\n",
            "96112376/96112376 [==============================] - 0s 0us/step\n"
          ]
        }
      ]
    },
    {
      "cell_type": "code",
      "source": [
        "base_model_1 = InceptionV3(weights='imagenet', include_top=False)"
      ],
      "metadata": {
        "colab": {
          "base_uri": "https://localhost:8080/"
        },
        "id": "-hwu1kpQ46q1",
        "outputId": "2dd556ed-26b2-4cd5-da01-fc5bebd838ee"
      },
      "execution_count": null,
      "outputs": [
        {
          "output_type": "stream",
          "name": "stdout",
          "text": [
            "Downloading data from https://storage.googleapis.com/tensorflow/keras-applications/inception_v3/inception_v3_weights_tf_dim_ordering_tf_kernels_notop.h5\n",
            "87910968/87910968 [==============================] - 1s 0us/step\n"
          ]
        }
      ]
    },
    {
      "cell_type": "code",
      "source": [
        "# extracting features for training frames\n",
        "X_train = base_model_1.predict(X_train)\n",
        "X_train.shape"
      ],
      "metadata": {
        "colab": {
          "base_uri": "https://localhost:8080/"
        },
        "id": "fAGUgLQhBkvY",
        "outputId": "c87721d6-14c9-4176-f5ed-9e672131a9fa"
      },
      "execution_count": null,
      "outputs": [
        {
          "output_type": "stream",
          "name": "stdout",
          "text": [
            "17/17 [==============================] - 12s 60ms/step\n"
          ]
        },
        {
          "output_type": "execute_result",
          "data": {
            "text/plain": [
              "(544, 5, 5, 2048)"
            ]
          },
          "metadata": {},
          "execution_count": 34
        }
      ]
    },
    {
      "cell_type": "code",
      "source": [
        "# extracting features for validation frames\n",
        "X_test = base_model_1.predict(X_test)\n",
        "X_test.shape"
      ],
      "metadata": {
        "colab": {
          "base_uri": "https://localhost:8080/"
        },
        "id": "zg26XWzWBhj5",
        "outputId": "5fac0ae0-a7d8-40f2-bc91-ab93326cb987"
      },
      "execution_count": null,
      "outputs": [
        {
          "output_type": "stream",
          "name": "stdout",
          "text": [
            "5/5 [==============================] - 2s 272ms/step\n"
          ]
        },
        {
          "output_type": "execute_result",
          "data": {
            "text/plain": [
              "(136, 5, 5, 2048)"
            ]
          },
          "metadata": {},
          "execution_count": 36
        }
      ]
    },
    {
      "cell_type": "code",
      "source": [
        "# reshaping the training as well as validation frames in single dimension (one dimensional)\n",
        "X_train = X_train.reshape(544, 5*5*2048)\n",
        "X_test = X_test.reshape(136, 5*5*2048)"
      ],
      "metadata": {
        "id": "lLR3gWidDZLZ"
      },
      "execution_count": null,
      "outputs": []
    },
    {
      "cell_type": "markdown",
      "source": [
        "It is always advisable to normalize the pixel values, i.e., keep the pixel values between 0 and 1. This helps the model to converge faster.\n"
      ],
      "metadata": {
        "id": "HAzlKuGzDcfx"
      }
    },
    {
      "cell_type": "code",
      "source": [
        "# normalizing the pixel values\n",
        "max = X_train.max()\n",
        "X_train = X_train/max\n",
        "X_test = X_test/max\n"
      ],
      "metadata": {
        "id": "DduIOpIkEIzf"
      },
      "execution_count": null,
      "outputs": []
    },
    {
      "cell_type": "markdown",
      "source": [
        "Next, we will create the architecture of the model. We have to define the input shape for that. So, let’s check the shape of our images:\n"
      ],
      "metadata": {
        "id": "ujjqgeWGEPrv"
      }
    },
    {
      "cell_type": "code",
      "source": [
        "# shape of images\n",
        "X_train.shape"
      ],
      "metadata": {
        "colab": {
          "base_uri": "https://localhost:8080/"
        },
        "id": "NOdqO4-vETEs",
        "outputId": "6378b6ee-3a20-4142-be35-31b05d3f144c"
      },
      "execution_count": null,
      "outputs": [
        {
          "output_type": "execute_result",
          "data": {
            "text/plain": [
              "(544, 51200)"
            ]
          },
          "metadata": {},
          "execution_count": 40
        }
      ]
    },
    {
      "cell_type": "code",
      "source": [
        "model = Sequential()\n",
        "model.add(Dense(1024, activation='relu', input_shape=(51200,)))\n",
        "model.add(Dropout(0.5))\n",
        "model.add(Dense(512, activation='relu'))\n",
        "model.add(Dropout(0.5))\n",
        "model.add(Dense(256, activation='relu'))\n",
        "model.add(Dropout(0.5))\n",
        "model.add(Dense(128, activation='relu'))\n",
        "model.add(Dropout(0.5))\n",
        "model.add(Dense(7, activation='softmax'))"
      ],
      "metadata": {
        "id": "v7La7AtMET5Y"
      },
      "execution_count": null,
      "outputs": []
    },
    {
      "cell_type": "markdown",
      "source": [
        "## **Train the model**\n",
        "\n",
        "So, let’s define a function to save the weights of the model:\n"
      ],
      "metadata": {
        "id": "ejjqHs46EuLE"
      }
    },
    {
      "cell_type": "code",
      "source": [
        "# defining a function to save the weights of best model\n",
        "from keras.callbacks import ModelCheckpoint\n"
      ],
      "metadata": {
        "id": "W-jT826-FKNA"
      },
      "execution_count": null,
      "outputs": []
    },
    {
      "cell_type": "code",
      "source": [
        "mcp_save = ModelCheckpoint('weight.hdf5', save_best_only=True, monitor='val_loss', mode='min')\n",
        "# compiling the model\n",
        "model.compile(loss='categorical_crossentropy',optimizer='Adam',metrics=['accuracy'])"
      ],
      "metadata": {
        "id": "7xXlp4r9FUWh"
      },
      "execution_count": null,
      "outputs": []
    },
    {
      "cell_type": "code",
      "source": [
        "import tensorflow as tf\n",
        "tf.config.run_functions_eagerly(True)"
      ],
      "metadata": {
        "id": "_kyUnTD3Jw8S"
      },
      "execution_count": null,
      "outputs": []
    },
    {
      "cell_type": "code",
      "source": [
        "# training the model\n",
        "history = model.fit(\n",
        "    X_train, y_train, \n",
        "    epochs=150, \n",
        "    validation_data=(X_test, y_test), \n",
        "    callbacks=[mcp_save], \n",
        "    batch_size=128)"
      ],
      "metadata": {
        "colab": {
          "base_uri": "https://localhost:8080/"
        },
        "id": "Ma4jLuxeFm0M",
        "outputId": "0b6f9d3d-51b7-46d5-b49c-0f0c2c167769"
      },
      "execution_count": null,
      "outputs": [
        {
          "output_type": "stream",
          "name": "stdout",
          "text": [
            "Epoch 1/150\n"
          ]
        },
        {
          "output_type": "stream",
          "name": "stderr",
          "text": [
            "/usr/local/lib/python3.9/dist-packages/tensorflow/python/data/ops/structured_function.py:256: UserWarning: Even though the `tf.config.experimental_run_functions_eagerly` option is set, this option does not apply to tf.data functions. To force eager execution of tf.data functions, please use `tf.data.experimental.enable_debug_mode()`.\n",
            "  warnings.warn(\n"
          ]
        },
        {
          "output_type": "stream",
          "name": "stdout",
          "text": [
            "5/5 [==============================] - ETA: 0s - loss: 2.2033 - accuracy: 0.1654"
          ]
        },
        {
          "output_type": "stream",
          "name": "stderr",
          "text": [
            "/usr/local/lib/python3.9/dist-packages/tensorflow/python/data/ops/structured_function.py:256: UserWarning: Even though the `tf.config.experimental_run_functions_eagerly` option is set, this option does not apply to tf.data functions. To force eager execution of tf.data functions, please use `tf.data.experimental.enable_debug_mode()`.\n",
            "  warnings.warn(\n"
          ]
        },
        {
          "output_type": "stream",
          "name": "stdout",
          "text": [
            "\b\b\b\b\b\b\b\b\b\b\b\b\b\b\b\b\b\b\b\b\b\b\b\b\b\b\b\b\b\b\b\b\b\b\b\b\b\b\b\b\b\b\b\b\b\b\b\b\b\b\b\b\b\b\b\b\b\b\b\b\b\b\b\b\b\b\b\b\b\b\b\b\b\b\b\b\b\b\b\b\r5/5 [==============================] - 4s 876ms/step - loss: 2.2033 - accuracy: 0.1654 - val_loss: 1.8223 - val_accuracy: 0.4632\n",
            "Epoch 2/150\n",
            "5/5 [==============================] - 3s 824ms/step - loss: 2.1497 - accuracy: 0.1949 - val_loss: 1.7234 - val_accuracy: 0.6838\n",
            "Epoch 3/150\n",
            "5/5 [==============================] - 4s 887ms/step - loss: 1.9102 - accuracy: 0.2353 - val_loss: 1.5616 - val_accuracy: 0.4559\n",
            "Epoch 4/150\n",
            "5/5 [==============================] - 4s 881ms/step - loss: 1.7963 - accuracy: 0.3235 - val_loss: 1.4018 - val_accuracy: 0.6176\n",
            "Epoch 5/150\n",
            "5/5 [==============================] - 4s 851ms/step - loss: 1.5057 - accuracy: 0.4118 - val_loss: 1.1781 - val_accuracy: 0.8750\n",
            "Epoch 6/150\n",
            "5/5 [==============================] - 3s 795ms/step - loss: 1.3674 - accuracy: 0.4614 - val_loss: 0.8965 - val_accuracy: 0.9191\n",
            "Epoch 7/150\n",
            "5/5 [==============================] - 4s 874ms/step - loss: 1.1797 - accuracy: 0.5460 - val_loss: 0.7070 - val_accuracy: 0.8382\n",
            "Epoch 8/150\n",
            "5/5 [==============================] - 3s 786ms/step - loss: 0.9420 - accuracy: 0.6562 - val_loss: 0.5250 - val_accuracy: 0.8824\n",
            "Epoch 9/150\n",
            "5/5 [==============================] - 3s 845ms/step - loss: 0.7950 - accuracy: 0.7004 - val_loss: 0.3496 - val_accuracy: 0.9632\n",
            "Epoch 10/150\n",
            "5/5 [==============================] - 4s 879ms/step - loss: 0.6216 - accuracy: 0.7592 - val_loss: 0.2260 - val_accuracy: 0.9485\n",
            "Epoch 11/150\n",
            "5/5 [==============================] - 4s 853ms/step - loss: 0.5322 - accuracy: 0.8217 - val_loss: 0.2043 - val_accuracy: 0.9338\n",
            "Epoch 12/150\n",
            "5/5 [==============================] - 3s 826ms/step - loss: 0.3806 - accuracy: 0.8695 - val_loss: 0.1867 - val_accuracy: 0.9412\n",
            "Epoch 13/150\n",
            "5/5 [==============================] - 3s 835ms/step - loss: 0.2827 - accuracy: 0.8915 - val_loss: 0.1141 - val_accuracy: 0.9632\n",
            "Epoch 14/150\n",
            "5/5 [==============================] - 3s 835ms/step - loss: 0.2273 - accuracy: 0.9118 - val_loss: 0.1014 - val_accuracy: 0.9706\n",
            "Epoch 15/150\n",
            "5/5 [==============================] - 4s 880ms/step - loss: 0.1706 - accuracy: 0.9357 - val_loss: 0.0946 - val_accuracy: 0.9559\n",
            "Epoch 16/150\n",
            "5/5 [==============================] - 3s 819ms/step - loss: 0.1414 - accuracy: 0.9559 - val_loss: 0.0652 - val_accuracy: 0.9779\n",
            "Epoch 17/150\n",
            "5/5 [==============================] - 0s 97ms/step - loss: 0.1034 - accuracy: 0.9596 - val_loss: 0.1085 - val_accuracy: 0.9632\n",
            "Epoch 18/150\n",
            "5/5 [==============================] - 0s 87ms/step - loss: 0.0886 - accuracy: 0.9632 - val_loss: 0.1059 - val_accuracy: 0.9632\n",
            "Epoch 19/150\n",
            "5/5 [==============================] - 0s 84ms/step - loss: 0.0712 - accuracy: 0.9743 - val_loss: 0.0773 - val_accuracy: 0.9853\n",
            "Epoch 20/150\n",
            "5/5 [==============================] - 0s 88ms/step - loss: 0.0524 - accuracy: 0.9816 - val_loss: 0.0976 - val_accuracy: 0.9559\n",
            "Epoch 21/150\n",
            "5/5 [==============================] - 0s 106ms/step - loss: 0.0491 - accuracy: 0.9908 - val_loss: 0.0920 - val_accuracy: 0.9559\n",
            "Epoch 22/150\n",
            "5/5 [==============================] - 4s 861ms/step - loss: 0.0349 - accuracy: 0.9835 - val_loss: 0.0585 - val_accuracy: 0.9853\n",
            "Epoch 23/150\n",
            "5/5 [==============================] - 0s 98ms/step - loss: 0.0523 - accuracy: 0.9908 - val_loss: 0.0765 - val_accuracy: 0.9779\n",
            "Epoch 24/150\n",
            "5/5 [==============================] - 1s 104ms/step - loss: 0.0360 - accuracy: 0.9871 - val_loss: 0.0985 - val_accuracy: 0.9632\n",
            "Epoch 25/150\n",
            "5/5 [==============================] - 1s 104ms/step - loss: 0.0248 - accuracy: 0.9945 - val_loss: 0.0794 - val_accuracy: 0.9632\n",
            "Epoch 26/150\n",
            "5/5 [==============================] - 4s 875ms/step - loss: 0.0146 - accuracy: 0.9963 - val_loss: 0.0538 - val_accuracy: 0.9853\n",
            "Epoch 27/150\n",
            "5/5 [==============================] - 0s 81ms/step - loss: 0.0281 - accuracy: 0.9926 - val_loss: 0.0815 - val_accuracy: 0.9559\n",
            "Epoch 28/150\n",
            "5/5 [==============================] - 0s 85ms/step - loss: 0.0110 - accuracy: 0.9963 - val_loss: 0.1229 - val_accuracy: 0.9559\n",
            "Epoch 29/150\n",
            "5/5 [==============================] - 0s 83ms/step - loss: 0.0116 - accuracy: 0.9963 - val_loss: 0.1289 - val_accuracy: 0.9559\n",
            "Epoch 30/150\n",
            "5/5 [==============================] - 0s 84ms/step - loss: 0.0208 - accuracy: 0.9945 - val_loss: 0.1263 - val_accuracy: 0.9559\n",
            "Epoch 31/150\n",
            "5/5 [==============================] - 0s 83ms/step - loss: 0.0099 - accuracy: 0.9963 - val_loss: 0.1481 - val_accuracy: 0.9559\n",
            "Epoch 32/150\n",
            "5/5 [==============================] - 0s 85ms/step - loss: 0.0069 - accuracy: 0.9982 - val_loss: 0.1363 - val_accuracy: 0.9559\n",
            "Epoch 33/150\n",
            "5/5 [==============================] - 0s 88ms/step - loss: 0.0153 - accuracy: 0.9926 - val_loss: 0.0728 - val_accuracy: 0.9853\n",
            "Epoch 34/150\n",
            "5/5 [==============================] - 0s 87ms/step - loss: 0.0060 - accuracy: 1.0000 - val_loss: 0.0699 - val_accuracy: 0.9853\n",
            "Epoch 35/150\n",
            "5/5 [==============================] - 0s 78ms/step - loss: 0.0217 - accuracy: 0.9908 - val_loss: 0.0909 - val_accuracy: 0.9779\n",
            "Epoch 36/150\n",
            "5/5 [==============================] - 0s 86ms/step - loss: 0.0134 - accuracy: 0.9963 - val_loss: 0.1251 - val_accuracy: 0.9559\n",
            "Epoch 37/150\n",
            "5/5 [==============================] - 0s 82ms/step - loss: 0.0086 - accuracy: 0.9982 - val_loss: 0.1590 - val_accuracy: 0.9559\n",
            "Epoch 38/150\n",
            "5/5 [==============================] - 0s 81ms/step - loss: 0.0027 - accuracy: 1.0000 - val_loss: 0.1735 - val_accuracy: 0.9559\n",
            "Epoch 39/150\n",
            "5/5 [==============================] - 0s 88ms/step - loss: 0.0162 - accuracy: 0.9945 - val_loss: 0.0911 - val_accuracy: 0.9853\n",
            "Epoch 40/150\n",
            "5/5 [==============================] - 3s 778ms/step - loss: 0.0060 - accuracy: 0.9982 - val_loss: 0.0412 - val_accuracy: 0.9926\n",
            "Epoch 41/150\n",
            "5/5 [==============================] - 0s 104ms/step - loss: 0.0113 - accuracy: 0.9963 - val_loss: 0.0464 - val_accuracy: 0.9926\n",
            "Epoch 42/150\n",
            "5/5 [==============================] - 0s 101ms/step - loss: 0.0126 - accuracy: 0.9982 - val_loss: 0.0732 - val_accuracy: 0.9779\n",
            "Epoch 43/150\n",
            "5/5 [==============================] - 1s 108ms/step - loss: 0.0057 - accuracy: 0.9982 - val_loss: 0.0951 - val_accuracy: 0.9706\n",
            "Epoch 44/150\n",
            "5/5 [==============================] - 0s 99ms/step - loss: 0.0119 - accuracy: 0.9963 - val_loss: 0.0923 - val_accuracy: 0.9706\n",
            "Epoch 45/150\n",
            "5/5 [==============================] - 1s 101ms/step - loss: 0.0052 - accuracy: 0.9982 - val_loss: 0.0853 - val_accuracy: 0.9706\n",
            "Epoch 46/150\n",
            "5/5 [==============================] - 0s 85ms/step - loss: 0.0251 - accuracy: 0.9926 - val_loss: 0.0912 - val_accuracy: 0.9706\n",
            "Epoch 47/150\n",
            "5/5 [==============================] - 0s 84ms/step - loss: 0.0038 - accuracy: 1.0000 - val_loss: 0.1208 - val_accuracy: 0.9632\n",
            "Epoch 48/150\n",
            "5/5 [==============================] - 0s 85ms/step - loss: 0.0077 - accuracy: 0.9982 - val_loss: 0.1936 - val_accuracy: 0.9559\n",
            "Epoch 49/150\n",
            "5/5 [==============================] - 0s 82ms/step - loss: 0.0115 - accuracy: 0.9945 - val_loss: 0.1806 - val_accuracy: 0.9485\n",
            "Epoch 50/150\n",
            "5/5 [==============================] - 0s 86ms/step - loss: 0.0070 - accuracy: 1.0000 - val_loss: 0.1242 - val_accuracy: 0.9632\n",
            "Epoch 51/150\n",
            "5/5 [==============================] - 0s 91ms/step - loss: 0.0115 - accuracy: 0.9945 - val_loss: 0.0871 - val_accuracy: 0.9706\n",
            "Epoch 52/150\n",
            "5/5 [==============================] - 0s 87ms/step - loss: 0.0105 - accuracy: 0.9963 - val_loss: 0.0724 - val_accuracy: 0.9853\n",
            "Epoch 53/150\n",
            "5/5 [==============================] - 0s 82ms/step - loss: 0.0064 - accuracy: 0.9982 - val_loss: 0.0851 - val_accuracy: 0.9779\n",
            "Epoch 54/150\n",
            "5/5 [==============================] - 0s 86ms/step - loss: 0.0018 - accuracy: 1.0000 - val_loss: 0.0914 - val_accuracy: 0.9779\n",
            "Epoch 55/150\n",
            "5/5 [==============================] - 0s 84ms/step - loss: 0.0017 - accuracy: 1.0000 - val_loss: 0.0933 - val_accuracy: 0.9779\n",
            "Epoch 56/150\n",
            "5/5 [==============================] - 0s 89ms/step - loss: 0.0035 - accuracy: 1.0000 - val_loss: 0.0833 - val_accuracy: 0.9853\n",
            "Epoch 57/150\n",
            "5/5 [==============================] - 0s 83ms/step - loss: 0.0024 - accuracy: 1.0000 - val_loss: 0.0819 - val_accuracy: 0.9853\n",
            "Epoch 58/150\n",
            "5/5 [==============================] - 0s 81ms/step - loss: 0.0013 - accuracy: 1.0000 - val_loss: 0.0840 - val_accuracy: 0.9779\n",
            "Epoch 59/150\n",
            "5/5 [==============================] - 0s 84ms/step - loss: 0.0081 - accuracy: 0.9963 - val_loss: 0.0784 - val_accuracy: 0.9853\n",
            "Epoch 60/150\n",
            "5/5 [==============================] - 0s 82ms/step - loss: 0.0031 - accuracy: 1.0000 - val_loss: 0.0660 - val_accuracy: 0.9926\n",
            "Epoch 61/150\n",
            "5/5 [==============================] - 0s 84ms/step - loss: 0.0045 - accuracy: 0.9982 - val_loss: 0.0544 - val_accuracy: 0.9853\n",
            "Epoch 62/150\n",
            "5/5 [==============================] - 0s 87ms/step - loss: 0.0065 - accuracy: 0.9982 - val_loss: 0.0524 - val_accuracy: 0.9853\n",
            "Epoch 63/150\n",
            "5/5 [==============================] - 0s 83ms/step - loss: 0.0014 - accuracy: 1.0000 - val_loss: 0.0931 - val_accuracy: 0.9706\n",
            "Epoch 64/150\n",
            "5/5 [==============================] - 0s 83ms/step - loss: 0.0025 - accuracy: 1.0000 - val_loss: 0.1213 - val_accuracy: 0.9632\n",
            "Epoch 65/150\n",
            "5/5 [==============================] - 0s 85ms/step - loss: 0.0064 - accuracy: 0.9982 - val_loss: 0.1010 - val_accuracy: 0.9632\n",
            "Epoch 66/150\n",
            "5/5 [==============================] - 0s 87ms/step - loss: 0.0034 - accuracy: 1.0000 - val_loss: 0.0997 - val_accuracy: 0.9632\n",
            "Epoch 67/150\n",
            "5/5 [==============================] - 0s 90ms/step - loss: 0.0027 - accuracy: 1.0000 - val_loss: 0.1171 - val_accuracy: 0.9706\n",
            "Epoch 68/150\n",
            "5/5 [==============================] - 0s 91ms/step - loss: 0.0014 - accuracy: 1.0000 - val_loss: 0.1370 - val_accuracy: 0.9706\n",
            "Epoch 69/150\n",
            "5/5 [==============================] - 0s 89ms/step - loss: 0.0013 - accuracy: 1.0000 - val_loss: 0.1398 - val_accuracy: 0.9706\n",
            "Epoch 70/150\n",
            "5/5 [==============================] - 1s 108ms/step - loss: 0.0057 - accuracy: 0.9982 - val_loss: 0.1161 - val_accuracy: 0.9706\n",
            "Epoch 71/150\n",
            "5/5 [==============================] - 1s 108ms/step - loss: 0.0022 - accuracy: 1.0000 - val_loss: 0.1091 - val_accuracy: 0.9706\n",
            "Epoch 72/150\n",
            "5/5 [==============================] - 1s 103ms/step - loss: 0.0020 - accuracy: 1.0000 - val_loss: 0.1126 - val_accuracy: 0.9706\n",
            "Epoch 73/150\n",
            "5/5 [==============================] - 1s 112ms/step - loss: 0.0022 - accuracy: 0.9982 - val_loss: 0.1666 - val_accuracy: 0.9706\n",
            "Epoch 74/150\n",
            "5/5 [==============================] - 1s 107ms/step - loss: 0.0034 - accuracy: 0.9982 - val_loss: 0.1973 - val_accuracy: 0.9706\n",
            "Epoch 75/150\n",
            "5/5 [==============================] - 0s 95ms/step - loss: 0.0079 - accuracy: 0.9982 - val_loss: 0.1528 - val_accuracy: 0.9779\n",
            "Epoch 76/150\n",
            "5/5 [==============================] - 0s 105ms/step - loss: 0.0015 - accuracy: 1.0000 - val_loss: 0.1304 - val_accuracy: 0.9706\n",
            "Epoch 77/150\n",
            "5/5 [==============================] - 0s 88ms/step - loss: 0.0012 - accuracy: 1.0000 - val_loss: 0.1156 - val_accuracy: 0.9779\n",
            "Epoch 78/150\n",
            "5/5 [==============================] - 0s 87ms/step - loss: 0.0027 - accuracy: 0.9982 - val_loss: 0.1059 - val_accuracy: 0.9779\n",
            "Epoch 79/150\n",
            "5/5 [==============================] - 0s 87ms/step - loss: 0.0286 - accuracy: 0.9926 - val_loss: 0.1822 - val_accuracy: 0.9706\n",
            "Epoch 80/150\n",
            "5/5 [==============================] - 0s 81ms/step - loss: 0.0180 - accuracy: 0.9963 - val_loss: 0.1626 - val_accuracy: 0.9632\n",
            "Epoch 81/150\n",
            "5/5 [==============================] - 0s 88ms/step - loss: 0.0024 - accuracy: 1.0000 - val_loss: 0.1474 - val_accuracy: 0.9706\n",
            "Epoch 82/150\n",
            "5/5 [==============================] - 0s 86ms/step - loss: 0.0098 - accuracy: 0.9945 - val_loss: 0.0961 - val_accuracy: 0.9853\n",
            "Epoch 83/150\n",
            "5/5 [==============================] - 0s 87ms/step - loss: 0.0019 - accuracy: 1.0000 - val_loss: 0.0567 - val_accuracy: 0.9853\n",
            "Epoch 84/150\n",
            "5/5 [==============================] - 0s 91ms/step - loss: 0.0540 - accuracy: 0.9963 - val_loss: 0.0636 - val_accuracy: 0.9853\n",
            "Epoch 85/150\n",
            "5/5 [==============================] - 0s 85ms/step - loss: 0.0145 - accuracy: 0.9926 - val_loss: 0.1304 - val_accuracy: 0.9706\n",
            "Epoch 86/150\n",
            "5/5 [==============================] - 0s 87ms/step - loss: 0.0109 - accuracy: 0.9963 - val_loss: 0.1578 - val_accuracy: 0.9632\n",
            "Epoch 87/150\n",
            "5/5 [==============================] - 0s 84ms/step - loss: 0.0053 - accuracy: 0.9982 - val_loss: 0.1208 - val_accuracy: 0.9706\n",
            "Epoch 88/150\n",
            "5/5 [==============================] - 0s 81ms/step - loss: 0.0100 - accuracy: 0.9982 - val_loss: 0.1500 - val_accuracy: 0.9632\n",
            "Epoch 89/150\n",
            "5/5 [==============================] - 0s 87ms/step - loss: 0.0051 - accuracy: 0.9982 - val_loss: 0.0795 - val_accuracy: 0.9853\n",
            "Epoch 90/150\n",
            "5/5 [==============================] - 0s 86ms/step - loss: 0.0099 - accuracy: 0.9982 - val_loss: 0.0679 - val_accuracy: 0.9853\n",
            "Epoch 91/150\n",
            "5/5 [==============================] - 0s 87ms/step - loss: 0.0039 - accuracy: 1.0000 - val_loss: 0.0809 - val_accuracy: 0.9853\n",
            "Epoch 92/150\n",
            "5/5 [==============================] - 0s 83ms/step - loss: 0.0085 - accuracy: 0.9982 - val_loss: 0.0785 - val_accuracy: 0.9853\n",
            "Epoch 93/150\n",
            "5/5 [==============================] - 0s 86ms/step - loss: 0.0033 - accuracy: 1.0000 - val_loss: 0.0795 - val_accuracy: 0.9853\n",
            "Epoch 94/150\n",
            "5/5 [==============================] - 0s 89ms/step - loss: 0.0014 - accuracy: 1.0000 - val_loss: 0.0908 - val_accuracy: 0.9853\n",
            "Epoch 95/150\n",
            "5/5 [==============================] - 0s 86ms/step - loss: 0.0061 - accuracy: 0.9963 - val_loss: 0.1255 - val_accuracy: 0.9706\n",
            "Epoch 96/150\n",
            "5/5 [==============================] - 0s 84ms/step - loss: 0.0266 - accuracy: 0.9963 - val_loss: 0.1159 - val_accuracy: 0.9779\n",
            "Epoch 97/150\n",
            "5/5 [==============================] - 0s 88ms/step - loss: 0.0098 - accuracy: 0.9982 - val_loss: 0.1034 - val_accuracy: 0.9706\n",
            "Epoch 98/150\n",
            "5/5 [==============================] - 0s 89ms/step - loss: 0.0405 - accuracy: 0.9926 - val_loss: 0.0803 - val_accuracy: 0.9853\n",
            "Epoch 99/150\n",
            "5/5 [==============================] - 0s 83ms/step - loss: 0.0298 - accuracy: 0.9908 - val_loss: 0.1045 - val_accuracy: 0.9853\n",
            "Epoch 100/150\n",
            "5/5 [==============================] - 0s 81ms/step - loss: 0.0165 - accuracy: 0.9963 - val_loss: 0.2811 - val_accuracy: 0.9559\n",
            "Epoch 101/150\n",
            "5/5 [==============================] - 1s 109ms/step - loss: 0.0395 - accuracy: 0.9871 - val_loss: 0.1075 - val_accuracy: 0.9706\n",
            "Epoch 102/150\n",
            "5/5 [==============================] - 0s 95ms/step - loss: 0.0455 - accuracy: 0.9816 - val_loss: 0.0657 - val_accuracy: 0.9779\n",
            "Epoch 103/150\n",
            "5/5 [==============================] - 1s 106ms/step - loss: 0.0350 - accuracy: 0.9853 - val_loss: 0.1934 - val_accuracy: 0.9632\n",
            "Epoch 104/150\n",
            "5/5 [==============================] - 0s 101ms/step - loss: 0.0246 - accuracy: 0.9926 - val_loss: 0.2152 - val_accuracy: 0.9632\n",
            "Epoch 105/150\n",
            "5/5 [==============================] - 1s 110ms/step - loss: 0.0244 - accuracy: 0.9926 - val_loss: 0.0645 - val_accuracy: 0.9779\n",
            "Epoch 106/150\n",
            "5/5 [==============================] - 4s 903ms/step - loss: 0.0367 - accuracy: 0.9890 - val_loss: 0.0345 - val_accuracy: 0.9926\n",
            "Epoch 107/150\n",
            "5/5 [==============================] - 4s 867ms/step - loss: 0.0574 - accuracy: 0.9871 - val_loss: 0.0251 - val_accuracy: 0.9926\n",
            "Epoch 108/150\n",
            "5/5 [==============================] - 0s 88ms/step - loss: 0.0281 - accuracy: 0.9908 - val_loss: 0.1773 - val_accuracy: 0.9632\n",
            "Epoch 109/150\n",
            "5/5 [==============================] - 4s 883ms/step - loss: 0.0341 - accuracy: 0.9908 - val_loss: 0.0092 - val_accuracy: 0.9926\n",
            "Epoch 110/150\n",
            "5/5 [==============================] - 1s 127ms/step - loss: 0.0490 - accuracy: 0.9853 - val_loss: 0.0161 - val_accuracy: 0.9926\n",
            "Epoch 111/150\n",
            "5/5 [==============================] - 0s 96ms/step - loss: 0.0449 - accuracy: 0.9871 - val_loss: 0.3936 - val_accuracy: 0.9485\n",
            "Epoch 112/150\n",
            "5/5 [==============================] - 1s 103ms/step - loss: 0.0892 - accuracy: 0.9853 - val_loss: 0.0734 - val_accuracy: 0.9779\n",
            "Epoch 113/150\n",
            "5/5 [==============================] - 1s 114ms/step - loss: 0.0337 - accuracy: 0.9890 - val_loss: 0.0864 - val_accuracy: 0.9926\n",
            "Epoch 114/150\n",
            "5/5 [==============================] - 1s 111ms/step - loss: 0.0248 - accuracy: 0.9926 - val_loss: 0.1733 - val_accuracy: 0.9706\n",
            "Epoch 115/150\n",
            "5/5 [==============================] - 0s 100ms/step - loss: 0.0310 - accuracy: 0.9926 - val_loss: 0.1545 - val_accuracy: 0.9632\n",
            "Epoch 116/150\n",
            "5/5 [==============================] - 1s 106ms/step - loss: 0.0128 - accuracy: 0.9982 - val_loss: 0.1154 - val_accuracy: 0.9706\n",
            "Epoch 117/150\n",
            "5/5 [==============================] - 0s 88ms/step - loss: 0.0153 - accuracy: 0.9963 - val_loss: 0.0712 - val_accuracy: 0.9926\n",
            "Epoch 118/150\n",
            "5/5 [==============================] - 0s 86ms/step - loss: 0.0175 - accuracy: 0.9945 - val_loss: 0.0595 - val_accuracy: 0.9853\n",
            "Epoch 119/150\n",
            "5/5 [==============================] - 0s 82ms/step - loss: 0.0183 - accuracy: 0.9926 - val_loss: 0.0955 - val_accuracy: 0.9926\n",
            "Epoch 120/150\n",
            "5/5 [==============================] - 0s 82ms/step - loss: 0.0087 - accuracy: 0.9982 - val_loss: 0.1717 - val_accuracy: 0.9853\n",
            "Epoch 121/150\n",
            "5/5 [==============================] - 0s 86ms/step - loss: 0.0103 - accuracy: 0.9982 - val_loss: 0.1846 - val_accuracy: 0.9779\n",
            "Epoch 122/150\n",
            "5/5 [==============================] - 0s 85ms/step - loss: 0.0138 - accuracy: 0.9926 - val_loss: 0.1332 - val_accuracy: 0.9853\n",
            "Epoch 123/150\n",
            "5/5 [==============================] - 0s 87ms/step - loss: 0.0094 - accuracy: 0.9982 - val_loss: 0.1395 - val_accuracy: 0.9779\n",
            "Epoch 124/150\n",
            "5/5 [==============================] - 0s 84ms/step - loss: 0.0071 - accuracy: 0.9982 - val_loss: 0.2399 - val_accuracy: 0.9338\n",
            "Epoch 125/150\n",
            "5/5 [==============================] - 0s 87ms/step - loss: 0.0098 - accuracy: 0.9963 - val_loss: 0.1902 - val_accuracy: 0.9706\n",
            "Epoch 126/150\n",
            "5/5 [==============================] - 0s 86ms/step - loss: 0.0140 - accuracy: 0.9945 - val_loss: 0.1780 - val_accuracy: 0.9706\n",
            "Epoch 127/150\n",
            "5/5 [==============================] - 0s 86ms/step - loss: 0.0450 - accuracy: 0.9945 - val_loss: 0.1472 - val_accuracy: 0.9632\n",
            "Epoch 128/150\n",
            "5/5 [==============================] - 0s 85ms/step - loss: 0.0194 - accuracy: 0.9945 - val_loss: 0.1474 - val_accuracy: 0.9706\n",
            "Epoch 129/150\n",
            "5/5 [==============================] - 0s 86ms/step - loss: 0.0041 - accuracy: 0.9982 - val_loss: 0.1841 - val_accuracy: 0.9779\n",
            "Epoch 130/150\n",
            "5/5 [==============================] - 0s 87ms/step - loss: 0.0017 - accuracy: 1.0000 - val_loss: 0.2107 - val_accuracy: 0.9779\n",
            "Epoch 131/150\n",
            "5/5 [==============================] - 0s 90ms/step - loss: 0.0034 - accuracy: 1.0000 - val_loss: 0.2044 - val_accuracy: 0.9779\n",
            "Epoch 132/150\n",
            "5/5 [==============================] - 0s 89ms/step - loss: 0.0041 - accuracy: 0.9982 - val_loss: 0.2085 - val_accuracy: 0.9779\n",
            "Epoch 133/150\n",
            "5/5 [==============================] - 0s 88ms/step - loss: 0.0010 - accuracy: 1.0000 - val_loss: 0.2249 - val_accuracy: 0.9706\n",
            "Epoch 134/150\n",
            "5/5 [==============================] - 0s 80ms/step - loss: 0.0072 - accuracy: 0.9963 - val_loss: 0.2327 - val_accuracy: 0.9706\n",
            "Epoch 135/150\n",
            "5/5 [==============================] - 0s 86ms/step - loss: 1.9353e-04 - accuracy: 1.0000 - val_loss: 0.2077 - val_accuracy: 0.9706\n",
            "Epoch 136/150\n",
            "5/5 [==============================] - 0s 87ms/step - loss: 0.0018 - accuracy: 1.0000 - val_loss: 0.2342 - val_accuracy: 0.9706\n",
            "Epoch 137/150\n",
            "5/5 [==============================] - 0s 83ms/step - loss: 0.0051 - accuracy: 0.9982 - val_loss: 0.2144 - val_accuracy: 0.9632\n",
            "Epoch 138/150\n",
            "5/5 [==============================] - 0s 93ms/step - loss: 0.0067 - accuracy: 0.9982 - val_loss: 0.1975 - val_accuracy: 0.9632\n",
            "Epoch 139/150\n",
            "5/5 [==============================] - 0s 86ms/step - loss: 0.0067 - accuracy: 0.9945 - val_loss: 0.1442 - val_accuracy: 0.9779\n",
            "Epoch 140/150\n",
            "5/5 [==============================] - 0s 83ms/step - loss: 0.0015 - accuracy: 1.0000 - val_loss: 0.1173 - val_accuracy: 0.9853\n",
            "Epoch 141/150\n",
            "5/5 [==============================] - 1s 109ms/step - loss: 4.2020e-04 - accuracy: 1.0000 - val_loss: 0.1095 - val_accuracy: 0.9853\n",
            "Epoch 142/150\n",
            "5/5 [==============================] - 0s 104ms/step - loss: 0.0136 - accuracy: 0.9963 - val_loss: 0.1189 - val_accuracy: 0.9779\n",
            "Epoch 143/150\n",
            "5/5 [==============================] - 0s 100ms/step - loss: 0.0010 - accuracy: 1.0000 - val_loss: 0.1256 - val_accuracy: 0.9779\n",
            "Epoch 144/150\n",
            "5/5 [==============================] - 1s 106ms/step - loss: 0.0036 - accuracy: 1.0000 - val_loss: 0.1123 - val_accuracy: 0.9706\n",
            "Epoch 145/150\n",
            "5/5 [==============================] - 1s 108ms/step - loss: 0.0023 - accuracy: 0.9982 - val_loss: 0.0962 - val_accuracy: 0.9706\n",
            "Epoch 146/150\n",
            "5/5 [==============================] - 0s 103ms/step - loss: 0.0032 - accuracy: 0.9982 - val_loss: 0.1380 - val_accuracy: 0.9706\n",
            "Epoch 147/150\n",
            "5/5 [==============================] - 1s 126ms/step - loss: 3.9037e-04 - accuracy: 1.0000 - val_loss: 0.1957 - val_accuracy: 0.9706\n",
            "Epoch 148/150\n",
            "5/5 [==============================] - 0s 87ms/step - loss: 0.0163 - accuracy: 0.9963 - val_loss: 0.1949 - val_accuracy: 0.9779\n",
            "Epoch 149/150\n",
            "5/5 [==============================] - 0s 83ms/step - loss: 1.1240e-04 - accuracy: 1.0000 - val_loss: 0.1831 - val_accuracy: 0.9779\n",
            "Epoch 150/150\n",
            "5/5 [==============================] - 0s 84ms/step - loss: 4.6183e-04 - accuracy: 1.0000 - val_loss: 0.1732 - val_accuracy: 0.9779\n"
          ]
        }
      ]
    },
    {
      "cell_type": "code",
      "source": [
        "pred = [np.argmax(i) for i in model.predict(X_test)]\n",
        "pred[:15]\n"
      ],
      "metadata": {
        "colab": {
          "base_uri": "https://localhost:8080/"
        },
        "id": "2QIZyINuGOBN",
        "outputId": "b085ad6f-8661-4e37-dcf6-13f7757b6c13"
      },
      "execution_count": null,
      "outputs": [
        {
          "output_type": "stream",
          "name": "stdout",
          "text": [
            "5/5 [==============================] - 0s 8ms/step\n"
          ]
        },
        {
          "output_type": "execute_result",
          "data": {
            "text/plain": [
              "[6, 2, 1, 2, 3, 5, 3, 3, 2, 0, 5, 2, 6, 4, 5]"
            ]
          },
          "metadata": {},
          "execution_count": 70
        }
      ]
    },
    {
      "cell_type": "code",
      "source": [
        "y_test.columns"
      ],
      "metadata": {
        "id": "-Nf7HApLH45G"
      },
      "execution_count": null,
      "outputs": []
    },
    {
      "cell_type": "code",
      "source": [
        "# Evaluating the model\n",
        "score = model.evaluate(X_test, y_test, verbose=0)\n",
        "print('Test loss:', score[0])\n",
        "print('Test accuracy:', score[1])"
      ],
      "metadata": {
        "colab": {
          "base_uri": "https://localhost:8080/"
        },
        "id": "5noulsftIS4L",
        "outputId": "3d7ba7d5-3b4d-49fa-e100-2fd71b9542f4"
      },
      "execution_count": null,
      "outputs": [
        {
          "output_type": "stream",
          "name": "stdout",
          "text": [
            "Test loss: 0.17321398854255676\n",
            "Test accuracy: 0.9779411554336548\n"
          ]
        },
        {
          "output_type": "stream",
          "name": "stderr",
          "text": [
            "/usr/local/lib/python3.9/dist-packages/tensorflow/python/data/ops/structured_function.py:256: UserWarning: Even though the `tf.config.experimental_run_functions_eagerly` option is set, this option does not apply to tf.data functions. To force eager execution of tf.data functions, please use `tf.data.experimental.enable_debug_mode()`.\n",
            "  warnings.warn(\n"
          ]
        }
      ]
    },
    {
      "cell_type": "code",
      "source": [
        "cvscores = []\n",
        "scores = model.evaluate(X_test, y_test, verbose=0)\n",
        "print(\"%s: %.2f%%\" % (model.metrics_names[1], scores[1]*100))\n",
        "cvscores.append(scores[1] * 100)\n",
        "print(\"%.2f%% (+/- %.2f%%)\" % (np.mean(cvscores), np.std(cvscores)))"
      ],
      "metadata": {
        "colab": {
          "base_uri": "https://localhost:8080/"
        },
        "id": "KbO536XLJpGJ",
        "outputId": "72b7281d-d131-4fde-8a9e-925fa60f00f0"
      },
      "execution_count": null,
      "outputs": [
        {
          "output_type": "stream",
          "name": "stdout",
          "text": [
            "accuracy: 97.79%\n",
            "97.79% (+/- 0.00%)\n"
          ]
        },
        {
          "output_type": "stream",
          "name": "stderr",
          "text": [
            "/usr/local/lib/python3.9/dist-packages/tensorflow/python/data/ops/structured_function.py:256: UserWarning: Even though the `tf.config.experimental_run_functions_eagerly` option is set, this option does not apply to tf.data functions. To force eager execution of tf.data functions, please use `tf.data.experimental.enable_debug_mode()`.\n",
            "  warnings.warn(\n"
          ]
        }
      ]
    },
    {
      "cell_type": "code",
      "source": [
        "tf.data.experimental.enable_debug_mode()"
      ],
      "metadata": {
        "id": "UbCvzTX9Q6N5"
      },
      "execution_count": null,
      "outputs": []
    },
    {
      "cell_type": "code",
      "source": [
        "# plot accuracy vs epoch\n",
        "plt.plot(history.history['accuracy'])\n",
        "plt.plot(history.history['val_accuracy'])\n",
        "plt.title('Model Accuracy')\n",
        "plt.xlabel('Epoch')\n",
        "plt.ylabel('Accuracy')\n",
        "plt.legend(['Train', 'Test'], loc='upper left')\n",
        "plt.show()\n",
        "\n"
      ],
      "metadata": {
        "id": "8TgiE7ccR5N6",
        "colab": {
          "base_uri": "https://localhost:8080/",
          "height": 295
        },
        "outputId": "8cec568a-d071-439e-f2d0-3e4b89b23fd4"
      },
      "execution_count": null,
      "outputs": [
        {
          "output_type": "display_data",
          "data": {
            "text/plain": [
              "<Figure size 432x288 with 1 Axes>"
            ],
            "image/png": "[encoded data removed]"
          },
          "metadata": {
            "needs_background": "light"
          }
        }
      ]
    },
    {
      "cell_type": "code",
      "source": [
        "# plot loss vs epoch\n",
        "plt.plot(history.history['loss'])\n",
        "plt.plot(history.history['val_loss'])\n",
        "plt.title('Model Loss')\n",
        "plt.xlabel('Epoch')\n",
        "plt.ylabel('Loss')\n",
        "plt.legend(['Train', 'Test'], loc='upper left')\n",
        "plt.show()"
      ],
      "metadata": {
        "id": "4IJPCR_8FZT0",
        "colab": {
          "base_uri": "https://localhost:8080/",
          "height": 295
        },
        "outputId": "86ca80e5-f6a1-452d-d388-8b623914b674"
      },
      "execution_count": null,
      "outputs": [
        {
          "output_type": "display_data",
          "data": {
            "text/plain": [
              "<Figure size 432x288 with 1 Axes>"
            ],
            "image/png": "[encoded data removed]"
          },
          "metadata": {
            "needs_background": "light"
          }
        }
      ]
    },
    {
      "cell_type": "code",
      "source": [
        "from keras.models import save_model, load_model\n",
        "save_model(model, '/content/gdrive/MyDrive/KBS/inceptionv3.h5')"
      ],
      "metadata": {
        "id": "cZFMalqZABI2"
      },
      "execution_count": null,
      "outputs": []
    },
    {
      "cell_type": "code",
      "source": [
        "pip freeze > requirements.txt"
      ],
      "metadata": {
        "id": "vWjBkt33tioZ"
      },
      "execution_count": null,
      "outputs": []
    }
  ],
  "metadata": {
    "colab": {
      "provenance": []
    },
    "gpuClass": "standard",
    "kernelspec": {
      "display_name": "Python 3",
      "name": "python3"
    },
    "language_info": {
      "name": "python"
    },
    "accelerator": "GPU"
  },
  "nbformat": 4,
  "nbformat_minor": 0
}