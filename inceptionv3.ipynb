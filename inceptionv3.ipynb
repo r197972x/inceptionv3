{
  "nbformat": 4,
  "nbformat_minor": 0,
  "metadata": {
    "colab": {
      "provenance": []
    },
    "kernelspec": {
      "name": "python3",
      "display_name": "Python 3"
    },
    "language_info": {
      "name": "python"
    }
  },
  "cells": [
    {
      "cell_type": "code",
      "source": [
        "import tensorflow as tf\n",
        "import cv2\n",
        "import json\n",
        "import numpy as np\n",
        "import math\n",
        "import os\n",
        "from pandas import DataFrame\n",
        "import pandas as pd\n",
        "from keras.models import Model\n",
        "from keras.applications.inception_v3 import InceptionV3\n",
        "from glob import glob\n",
        "from tqdm import tqdm"
      ],
      "metadata": {
        "id": "uqpxMtvvnNJt"
      },
      "execution_count": 38,
      "outputs": []
    },
    {
      "cell_type": "code",
      "source": [
        "from google.colab import drive\n",
        "drive.mount('/content/gdrive')"
      ],
      "metadata": {
        "colab": {
          "base_uri": "https://localhost:8080/"
        },
        "id": "pY9QUJxKnDnq",
        "outputId": "b477d0d1-66b2-43d8-e391-e3eb0fd213cf"
      },
      "execution_count": 39,
      "outputs": [
        {
          "output_type": "stream",
          "name": "stdout",
          "text": [
            "Drive already mounted at /content/gdrive; to attempt to forcibly remount, call drive.mount(\"/content/gdrive\", force_remount=True).\n"
          ]
        }
      ]
    },
    {
      "cell_type": "code",
      "source": [
        "SOURCE = '/content/gdrive/MyDrive/PART4.2/videos'\n",
        "with open('/content/gdrive/MyDrive/PART4.2/KBS/ASS2/imagenet_class_index.json', 'r') as f:\n",
        "    imagenet_classes = json.load(f)\n",
        "imagenet_classes"
      ],
      "metadata": {
        "id": "O7zRhh07lkpx"
      },
      "execution_count": null,
      "outputs": []
    },
    {
      "cell_type": "code",
      "source": [
        "base_model = InceptionV3(weights='imagenet')\n",
        "model = Model(inputs=base_model.input, outputs=base_model.get_layer('avg_pool').output)"
      ],
      "metadata": {
        "colab": {
          "base_uri": "https://localhost:8080/"
        },
        "id": "ACXX8fpHTFqD",
        "outputId": "f948be8f-2f28-4960-ceba-f1e94d418c62"
      },
      "execution_count": 41,
      "outputs": [
        {
          "output_type": "stream",
          "name": "stdout",
          "text": [
            "Downloading data from https://storage.googleapis.com/tensorflow/keras-applications/inception_v3/inception_v3_weights_tf_dim_ordering_tf_kernels.h5\n",
            "96112376/96112376 [==============================] - 1s 0us/step\n"
          ]
        }
      ]
    },
    {
      "cell_type": "code",
      "source": [
        "base_model_1 = InceptionV3(weights='imagenet', include_top=False)"
      ],
      "metadata": {
        "colab": {
          "base_uri": "https://localhost:8080/"
        },
        "id": "G35qr9AfTMxt",
        "outputId": "13dd38eb-0a4c-41f6-b91b-4aa2487273bf"
      },
      "execution_count": 42,
      "outputs": [
        {
          "output_type": "stream",
          "name": "stdout",
          "text": [
            "Downloading data from https://storage.googleapis.com/tensorflow/keras-applications/inception_v3/inception_v3_weights_tf_dim_ordering_tf_kernels_notop.h5\n",
            "87910968/87910968 [==============================] - 1s 0us/step\n"
          ]
        }
      ]
    },
    {
      "cell_type": "code",
      "source": [
        "videos = os.listdir('/content/gdrive/MyDrive/PART4.2/train')\n",
        "videos"
      ],
      "metadata": {
        "colab": {
          "base_uri": "https://localhost:8080/"
        },
        "id": "UdySji5bT4RT",
        "outputId": "e38dc46d-2e48-4151-fb15-77c8b5bdfd98"
      },
      "execution_count": 43,
      "outputs": [
        {
          "output_type": "execute_result",
          "data": {
            "text/plain": [
              "['_frame0.jpg',\n",
              " '_frame1.jpg',\n",
              " '_frame2.jpg',\n",
              " '_frame3.jpg',\n",
              " '_frame4.jpg',\n",
              " '_frame5.jpg',\n",
              " '_frame6.jpg',\n",
              " '_frame7.jpg',\n",
              " '_frame8.jpg',\n",
              " '_frame9.jpg',\n",
              " '_frame10.jpg',\n",
              " '_frame11.jpg',\n",
              " '_frame12.jpg',\n",
              " '_frame13.jpg',\n",
              " '_frame14.jpg',\n",
              " '_frame15.jpg',\n",
              " '_frame16.jpg',\n",
              " '_frame17.jpg',\n",
              " '_frame18.jpg',\n",
              " '_frame19.jpg',\n",
              " '_frame20.jpg',\n",
              " '_frame21.jpg',\n",
              " '_frame22.jpg',\n",
              " '_frame23.jpg',\n",
              " '_frame24.jpg',\n",
              " '_frame25.jpg',\n",
              " '_frame26.jpg',\n",
              " '_frame27.jpg',\n",
              " '_frame28.jpg',\n",
              " '_frame29.jpg',\n",
              " '_frame30.jpg',\n",
              " '_frame31.jpg',\n",
              " '_frame32.jpg',\n",
              " '_frame33.jpg',\n",
              " '_frame34.jpg',\n",
              " '_frame35.jpg',\n",
              " '_frame36.jpg',\n",
              " '_frame37.jpg',\n",
              " '_frame38.jpg',\n",
              " '_frame39.jpg',\n",
              " '_frame40.jpg',\n",
              " '_frame41.jpg',\n",
              " '_frame42.jpg',\n",
              " '_frame43.jpg',\n",
              " '_frame44.jpg',\n",
              " '_frame45.jpg',\n",
              " '_frame46.jpg',\n",
              " '_frame47.jpg',\n",
              " '_frame48.jpg',\n",
              " '_frame49.jpg',\n",
              " '_frame50.jpg',\n",
              " '_frame51.jpg',\n",
              " '_frame52.jpg',\n",
              " '_frame53.jpg',\n",
              " '_frame54.jpg',\n",
              " '_frame55.jpg',\n",
              " '_frame56.jpg',\n",
              " '_frame57.jpg',\n",
              " '_frame58.jpg',\n",
              " '_frame59.jpg',\n",
              " '_frame60.jpg',\n",
              " '_frame61.jpg',\n",
              " '_frame62.jpg',\n",
              " '_frame63.jpg',\n",
              " '_frame64.jpg',\n",
              " '_frame65.jpg',\n",
              " '_frame66.jpg',\n",
              " '_frame67.jpg',\n",
              " '_frame68.jpg',\n",
              " '_frame69.jpg',\n",
              " '_frame70.jpg',\n",
              " '_frame71.jpg',\n",
              " '_frame72.jpg',\n",
              " '_frame73.jpg',\n",
              " '_frame74.jpg',\n",
              " '_frame75.jpg',\n",
              " '_frame76.jpg',\n",
              " '_frame77.jpg',\n",
              " '_frame78.jpg',\n",
              " '_frame79.jpg',\n",
              " '_frame80.jpg',\n",
              " '_frame81.jpg',\n",
              " '_frame82.jpg',\n",
              " '_frame83.jpg',\n",
              " '_frame84.jpg',\n",
              " '_frame85.jpg',\n",
              " '_frame86.jpg',\n",
              " '_frame87.jpg',\n",
              " '_frame88.jpg',\n",
              " '_frame89.jpg',\n",
              " '_frame90.jpg',\n",
              " '_frame91.jpg',\n",
              " '_frame92.jpg',\n",
              " '_frame93.jpg',\n",
              " '_frame94.jpg',\n",
              " '_frame95.jpg',\n",
              " '_frame96.jpg',\n",
              " '_frame97.jpg',\n",
              " '_frame98.jpg',\n",
              " '_frame99.jpg',\n",
              " '_frame100.jpg',\n",
              " '_frame101.jpg',\n",
              " '_frame102.jpg',\n",
              " '_frame103.jpg',\n",
              " '_frame104.jpg',\n",
              " '_frame105.jpg',\n",
              " '_frame106.jpg',\n",
              " '_frame107.jpg',\n",
              " '_frame108.jpg',\n",
              " '_frame109.jpg',\n",
              " '_frame110.jpg',\n",
              " '_frame111.jpg',\n",
              " '_frame112.jpg',\n",
              " '_frame113.jpg',\n",
              " '_frame114.jpg',\n",
              " '_frame115.jpg',\n",
              " '_frame116.jpg',\n",
              " '_frame117.jpg',\n",
              " '_frame118.jpg',\n",
              " '_frame119.jpg',\n",
              " '_frame120.jpg',\n",
              " '_frame121.jpg',\n",
              " '_frame122.jpg',\n",
              " '_frame123.jpg',\n",
              " '_frame124.jpg',\n",
              " '_frame125.jpg',\n",
              " '_frame126.jpg',\n",
              " '_frame127.jpg',\n",
              " '_frame128.jpg',\n",
              " '_frame129.jpg',\n",
              " '_frame130.jpg',\n",
              " '_frame131.jpg',\n",
              " '_frame132.jpg',\n",
              " '_frame133.jpg']"
            ]
          },
          "metadata": {},
          "execution_count": 43
        }
      ]
    },
    {
      "cell_type": "code",
      "source": [
        "sample_frame = '/content/gdrive/MyDrive/PART4.2/train/_frame1.jpg'"
      ],
      "metadata": {
        "id": "GK0Shj_oUuig"
      },
      "execution_count": 44,
      "outputs": []
    },
    {
      "cell_type": "code",
      "source": [
        " predictions_df = DataFrame(columns=['Class','Source'])\n",
        " predictions_df"
      ],
      "metadata": {
        "colab": {
          "base_uri": "https://localhost:8080/",
          "height": 49
        },
        "id": "C9gr2hMPim6d",
        "outputId": "7914ed36-649d-43b8-c9de-3a69914a3e65"
      },
      "execution_count": 45,
      "outputs": [
        {
          "output_type": "execute_result",
          "data": {
            "text/plain": [
              "Empty DataFrame\n",
              "Columns: [Class, Source]\n",
              "Index: []"
            ],
            "text/html": [
              "\n",
              "  <div id=\"df-5198c14d-4187-4515-8059-7f16b52edfc3\">\n",
              "    <div class=\"colab-df-container\">\n",
              "      <div>\n",
              "<style scoped>\n",
              "    .dataframe tbody tr th:only-of-type {\n",
              "        vertical-align: middle;\n",
              "    }\n",
              "\n",
              "    .dataframe tbody tr th {\n",
              "        vertical-align: top;\n",
              "    }\n",
              "\n",
              "    .dataframe thead th {\n",
              "        text-align: right;\n",
              "    }\n",
              "</style>\n",
              "<table border=\"1\" class=\"dataframe\">\n",
              "  <thead>\n",
              "    <tr style=\"text-align: right;\">\n",
              "      <th></th>\n",
              "      <th>Class</th>\n",
              "      <th>Source</th>\n",
              "    </tr>\n",
              "  </thead>\n",
              "  <tbody>\n",
              "  </tbody>\n",
              "</table>\n",
              "</div>\n",
              "      <button class=\"colab-df-convert\" onclick=\"convertToInteractive('df-5198c14d-4187-4515-8059-7f16b52edfc3')\"\n",
              "              title=\"Convert this dataframe to an interactive table.\"\n",
              "              style=\"display:none;\">\n",
              "        \n",
              "  <svg xmlns=\"http://www.w3.org/2000/svg\" height=\"24px\"viewBox=\"0 0 24 24\"\n",
              "       width=\"24px\">\n",
              "    <path d=\"M0 0h24v24H0V0z\" fill=\"none\"/>\n",
              "    <path d=\"M18.56 5.44l.94 2.06.94-2.06 2.06-.94-2.06-.94-.94-2.06-.94 2.06-2.06.94zm-11 1L8.5 8.5l.94-2.06 2.06-.94-2.06-.94L8.5 2.5l-.94 2.06-2.06.94zm10 10l.94 2.06.94-2.06 2.06-.94-2.06-.94-.94-2.06-.94 2.06-2.06.94z\"/><path d=\"M17.41 7.96l-1.37-1.37c-.4-.4-.92-.59-1.43-.59-.52 0-1.04.2-1.43.59L10.3 9.45l-7.72 7.72c-.78.78-.78 2.05 0 2.83L4 21.41c.39.39.9.59 1.41.59.51 0 1.02-.2 1.41-.59l7.78-7.78 2.81-2.81c.8-.78.8-2.07 0-2.86zM5.41 20L4 18.59l7.72-7.72 1.47 1.35L5.41 20z\"/>\n",
              "  </svg>\n",
              "      </button>\n",
              "      \n",
              "  <style>\n",
              "    .colab-df-container {\n",
              "      display:flex;\n",
              "      flex-wrap:wrap;\n",
              "      gap: 12px;\n",
              "    }\n",
              "\n",
              "    .colab-df-convert {\n",
              "      background-color: #E8F0FE;\n",
              "      border: none;\n",
              "      border-radius: 50%;\n",
              "      cursor: pointer;\n",
              "      display: none;\n",
              "      fill: #1967D2;\n",
              "      height: 32px;\n",
              "      padding: 0 0 0 0;\n",
              "      width: 32px;\n",
              "    }\n",
              "\n",
              "    .colab-df-convert:hover {\n",
              "      background-color: #E2EBFA;\n",
              "      box-shadow: 0px 1px 2px rgba(60, 64, 67, 0.3), 0px 1px 3px 1px rgba(60, 64, 67, 0.15);\n",
              "      fill: #174EA6;\n",
              "    }\n",
              "\n",
              "    [theme=dark] .colab-df-convert {\n",
              "      background-color: #3B4455;\n",
              "      fill: #D2E3FC;\n",
              "    }\n",
              "\n",
              "    [theme=dark] .colab-df-convert:hover {\n",
              "      background-color: #434B5C;\n",
              "      box-shadow: 0px 1px 3px 1px rgba(0, 0, 0, 0.15);\n",
              "      filter: drop-shadow(0px 1px 2px rgba(0, 0, 0, 0.3));\n",
              "      fill: #FFFFFF;\n",
              "    }\n",
              "  </style>\n",
              "\n",
              "      <script>\n",
              "        const buttonEl =\n",
              "          document.querySelector('#df-5198c14d-4187-4515-8059-7f16b52edfc3 button.colab-df-convert');\n",
              "        buttonEl.style.display =\n",
              "          google.colab.kernel.accessAllowed ? 'block' : 'none';\n",
              "\n",
              "        async function convertToInteractive(key) {\n",
              "          const element = document.querySelector('#df-5198c14d-4187-4515-8059-7f16b52edfc3');\n",
              "          const dataTable =\n",
              "            await google.colab.kernel.invokeFunction('convertToInteractive',\n",
              "                                                     [key], {});\n",
              "          if (!dataTable) return;\n",
              "\n",
              "          const docLinkHtml = 'Like what you see? Visit the ' +\n",
              "            '<a target=\"_blank\" href=https://colab.research.google.com/notebooks/data_table.ipynb>data table notebook</a>'\n",
              "            + ' to learn more about interactive tables.';\n",
              "          element.innerHTML = '';\n",
              "          dataTable['output_type'] = 'display_data';\n",
              "          await google.colab.output.renderOutput(dataTable, element);\n",
              "          const docLink = document.createElement('div');\n",
              "          docLink.innerHTML = docLinkHtml;\n",
              "          element.appendChild(docLink);\n",
              "        }\n",
              "      </script>\n",
              "    </div>\n",
              "  </div>\n",
              "  "
            ]
          },
          "metadata": {},
          "execution_count": 45
        }
      ]
    },
    {
      "cell_type": "code",
      "source": [
        "!mkdir '/content/gdrive/MyDrive/PART4.2/train1'"
      ],
      "metadata": {
        "id": "yl6hFSZaLAML"
      },
      "execution_count": null,
      "outputs": []
    },
    {
      "cell_type": "code",
      "source": [
        "def save_video_frames(video_path):\n",
        "    count = 0\n",
        "    cap = cv2.VideoCapture(video_path)   # capturing the video from the given path\n",
        "    frameRate = cap.get(5) #frame rate\n",
        "    x=1\n",
        "    names = []\n",
        "    while(cap.isOpened()):\n",
        "\n",
        "      frameId = cap.get(1) #current frame number\n",
        "      ret, frame = cap.read()\n",
        "\n",
        "      if (ret != True):\n",
        "          break\n",
        "      if (frameId % math.floor(frameRate) == 0):\n",
        "          # storing the frames in a new folder named train_1\n",
        "          \n",
        "          filename ='./train' + video_path.replace(SOURCE,'') +\"_frame%d.jpg\" % count;count+=1\n",
        "          cv2.imwrite(filename, frame)\n",
        "    cap.release()\n",
        "    "
      ],
      "metadata": {
        "id": "BMesUa5znfkK"
      },
      "execution_count": 46,
      "outputs": []
    },
    {
      "cell_type": "code",
      "source": [
        "def predict(frame):\n",
        "    # Load the pre-trained Inception v3 model\n",
        "    model = tf.keras.applications.InceptionV3(weights='imagenet')\n",
        "    # pred_df = pd.DataFrame(columns=['Class','Source'])\n",
        "    # Load the image\n",
        "    img = cv2.imread(frame)\n",
        "\n",
        "    # Preprocess the image\n",
        "    img = cv2.resize(img, (299, 299))\n",
        "    img = img / 255.0\n",
        "    img = np.expand_dims(img, axis=0)\n",
        "\n",
        "    # Run the image through the model to get predictions\n",
        "    predictions = model.spredict(img)\n",
        "\n",
        "    # Decode the predictions\n",
        "    decoded_predictions = tf.keras.applications.imagenet_utils.decode_predictions(predictions)\n",
        "\n",
        "    preds = []\n",
        "    # Print the top 5 predictions\n",
        "    for i in range(5):\n",
        "        # print(decoded_predictions[0][i][1])\n",
        "        preds.append({'Class':decoded_predictions[0][i][1],'Source':frame})\n",
        "        print(decoded_predictions[0][i][1])\n",
        "        # print((decoded_predictions[0][i][1],frame))\n",
        "\n",
        "\n",
        "    return preds"
      ],
      "metadata": {
        "id": "tyxXBu_V85Hs"
      },
      "execution_count": 49,
      "outputs": []
    },
    {
      "cell_type": "code",
      "source": [
        "def make_dataf(file_path):\n",
        "  predictions_df = DataFrame(columns=['Class','Source'])\n",
        "  predictions = []\n",
        "  for filename in os.listdir(file_path):\n",
        "    pred = []\n",
        "    print(filename)\n",
        "\n",
        "    pred =_predict(os.path.join('./train',filename))\n",
        "    print(type(pred))\n",
        "\n",
        "    for prediction in pred:\n",
        "      predictions_df = predictions_df.append(prediction,ignore_index=True)   \n",
        "  predictions_df.to_csv('predictionsfile.csv')\n"
      ],
      "metadata": {
        "id": "PYwtYEzU4vAV"
      },
      "execution_count": 51,
      "outputs": []
    },
    {
      "cell_type": "code",
      "source": [
        "save_video_frames('/content/gdrive/MyDrive/PART4.2/videos')\n",
        "make_dataf('/content/gdrive/MyDrive/PART4.2/train1')"
      ],
      "metadata": {
        "id": "g09KkHYiV_Qy"
      },
      "execution_count": 56,
      "outputs": []
    },
    {
      "cell_type": "code",
      "source": [
        "import pandas as pd\n",
        "datafram = pd.read_csv('predictionsfile.csv')\n",
        "datafram = datafram[['Class','Source']]\n",
        "datafram"
      ],
      "metadata": {
        "colab": {
          "base_uri": "https://localhost:8080/",
          "height": 49
        },
        "id": "ucp4yfbkXR-_",
        "outputId": "d5101d0d-25ca-491d-8b67-26f2ed1e3239"
      },
      "execution_count": 57,
      "outputs": [
        {
          "output_type": "execute_result",
          "data": {
            "text/plain": [
              "Empty DataFrame\n",
              "Columns: [Class, Source]\n",
              "Index: []"
            ],
            "text/html": [
              "\n",
              "  <div id=\"df-6cfb14a0-d4ea-4616-851f-f27a74e94f47\">\n",
              "    <div class=\"colab-df-container\">\n",
              "      <div>\n",
              "<style scoped>\n",
              "    .dataframe tbody tr th:only-of-type {\n",
              "        vertical-align: middle;\n",
              "    }\n",
              "\n",
              "    .dataframe tbody tr th {\n",
              "        vertical-align: top;\n",
              "    }\n",
              "\n",
              "    .dataframe thead th {\n",
              "        text-align: right;\n",
              "    }\n",
              "</style>\n",
              "<table border=\"1\" class=\"dataframe\">\n",
              "  <thead>\n",
              "    <tr style=\"text-align: right;\">\n",
              "      <th></th>\n",
              "      <th>Class</th>\n",
              "      <th>Source</th>\n",
              "    </tr>\n",
              "  </thead>\n",
              "  <tbody>\n",
              "  </tbody>\n",
              "</table>\n",
              "</div>\n",
              "      <button class=\"colab-df-convert\" onclick=\"convertToInteractive('df-6cfb14a0-d4ea-4616-851f-f27a74e94f47')\"\n",
              "              title=\"Convert this dataframe to an interactive table.\"\n",
              "              style=\"display:none;\">\n",
              "        \n",
              "  <svg xmlns=\"http://www.w3.org/2000/svg\" height=\"24px\"viewBox=\"0 0 24 24\"\n",
              "       width=\"24px\">\n",
              "    <path d=\"M0 0h24v24H0V0z\" fill=\"none\"/>\n",
              "    <path d=\"M18.56 5.44l.94 2.06.94-2.06 2.06-.94-2.06-.94-.94-2.06-.94 2.06-2.06.94zm-11 1L8.5 8.5l.94-2.06 2.06-.94-2.06-.94L8.5 2.5l-.94 2.06-2.06.94zm10 10l.94 2.06.94-2.06 2.06-.94-2.06-.94-.94-2.06-.94 2.06-2.06.94z\"/><path d=\"M17.41 7.96l-1.37-1.37c-.4-.4-.92-.59-1.43-.59-.52 0-1.04.2-1.43.59L10.3 9.45l-7.72 7.72c-.78.78-.78 2.05 0 2.83L4 21.41c.39.39.9.59 1.41.59.51 0 1.02-.2 1.41-.59l7.78-7.78 2.81-2.81c.8-.78.8-2.07 0-2.86zM5.41 20L4 18.59l7.72-7.72 1.47 1.35L5.41 20z\"/>\n",
              "  </svg>\n",
              "      </button>\n",
              "      \n",
              "  <style>\n",
              "    .colab-df-container {\n",
              "      display:flex;\n",
              "      flex-wrap:wrap;\n",
              "      gap: 12px;\n",
              "    }\n",
              "\n",
              "    .colab-df-convert {\n",
              "      background-color: #E8F0FE;\n",
              "      border: none;\n",
              "      border-radius: 50%;\n",
              "      cursor: pointer;\n",
              "      display: none;\n",
              "      fill: #1967D2;\n",
              "      height: 32px;\n",
              "      padding: 0 0 0 0;\n",
              "      width: 32px;\n",
              "    }\n",
              "\n",
              "    .colab-df-convert:hover {\n",
              "      background-color: #E2EBFA;\n",
              "      box-shadow: 0px 1px 2px rgba(60, 64, 67, 0.3), 0px 1px 3px 1px rgba(60, 64, 67, 0.15);\n",
              "      fill: #174EA6;\n",
              "    }\n",
              "\n",
              "    [theme=dark] .colab-df-convert {\n",
              "      background-color: #3B4455;\n",
              "      fill: #D2E3FC;\n",
              "    }\n",
              "\n",
              "    [theme=dark] .colab-df-convert:hover {\n",
              "      background-color: #434B5C;\n",
              "      box-shadow: 0px 1px 3px 1px rgba(0, 0, 0, 0.15);\n",
              "      filter: drop-shadow(0px 1px 2px rgba(0, 0, 0, 0.3));\n",
              "      fill: #FFFFFF;\n",
              "    }\n",
              "  </style>\n",
              "\n",
              "      <script>\n",
              "        const buttonEl =\n",
              "          document.querySelector('#df-6cfb14a0-d4ea-4616-851f-f27a74e94f47 button.colab-df-convert');\n",
              "        buttonEl.style.display =\n",
              "          google.colab.kernel.accessAllowed ? 'block' : 'none';\n",
              "\n",
              "        async function convertToInteractive(key) {\n",
              "          const element = document.querySelector('#df-6cfb14a0-d4ea-4616-851f-f27a74e94f47');\n",
              "          const dataTable =\n",
              "            await google.colab.kernel.invokeFunction('convertToInteractive',\n",
              "                                                     [key], {});\n",
              "          if (!dataTable) return;\n",
              "\n",
              "          const docLinkHtml = 'Like what you see? Visit the ' +\n",
              "            '<a target=\"_blank\" href=https://colab.research.google.com/notebooks/data_table.ipynb>data table notebook</a>'\n",
              "            + ' to learn more about interactive tables.';\n",
              "          element.innerHTML = '';\n",
              "          dataTable['output_type'] = 'display_data';\n",
              "          await google.colab.output.renderOutput(dataTable, element);\n",
              "          const docLink = document.createElement('div');\n",
              "          docLink.innerHTML = docLinkHtml;\n",
              "          element.appendChild(docLink);\n",
              "        }\n",
              "      </script>\n",
              "    </div>\n",
              "  </div>\n",
              "  "
            ]
          },
          "metadata": {},
          "execution_count": 57
        }
      ]
    },
    {
      "cell_type": "code",
      "source": [
        "datafram[datafram['Class'] == 'scoreboard']"
      ],
      "metadata": {
        "id": "UBYkNTpcXur0"
      },
      "execution_count": null,
      "outputs": []
    },
    {
      "cell_type": "code",
      "source": [
        "def predict(frame):\n",
        "    print(frame)\n",
        "    # Load the pre-trained Inception v3 model\n",
        "    model = tf.keras.applications.InceptionV3(weights='imagenet')\n",
        "    img = cv2.imread(frame)\n",
        "    \n",
        "\n",
        "    # Preprocess the image\n",
        "    img = cv2.resize(img, (299, 299))\n",
        "    img = img / 255.0\n",
        "    img = np.expand_dims(img, axis=0)\n",
        "\n",
        "    # Run the image through the model to get predictions\n",
        "    predictions = model.predict(img)\n",
        "\n",
        "    # Decode the predictions\n",
        "    decoded_predictions = tf.keras.applications.imagenet_utils.decode_predictions(predictions)\n",
        "\n",
        "    preds = []\n",
        "    # Print the top 5 predictions\n",
        "    for i in range(5):\n",
        "        # print(decoded_predictions[0][i][1])\n",
        "        preds.append({'Class':decoded_predictions[0][i][1],'Source':frame})\n",
        "\n",
        "    return preds"
      ],
      "metadata": {
        "id": "CJyfnb4eYG2W"
      },
      "execution_count": 58,
      "outputs": []
    },
    {
      "cell_type": "code",
      "source": [
        "from keras.models import save_model, load_model\n",
        "save_model(model, '/content/gdrive/MyDrive/PART4.2/inceptionv3.h5')"
      ],
      "metadata": {
        "colab": {
          "base_uri": "https://localhost:8080/"
        },
        "id": "wt-cAPd8YORl",
        "outputId": "9fd16b16-d0e4-4817-fbfe-9d826b6b90b3"
      },
      "execution_count": 59,
      "outputs": [
        {
          "output_type": "stream",
          "name": "stderr",
          "text": [
            "WARNING:tensorflow:Compiled the loaded model, but the compiled metrics have yet to be built. `model.compile_metrics` will be empty until you train or evaluate the model.\n"
          ]
        }
      ]
    },
    {
      "cell_type": "code",
      "source": [
        "# Define a function to search for objects in the video\n",
        "def search_video(query):\n",
        "    # Loop through each frame in the video\n",
        "    while True:\n",
        "        ret, frame = cap.read()\n",
        "\n",
        "        # Stop the loop if we have reached the end of the video\n",
        "        if not ret:\n",
        "            break\n",
        "\n",
        "        # Preprocess the frame\n",
        "        img = preprocess_image(frame)\n",
        "        # Make a prediction using the pre-trained InceptionV3 model\n",
        "        preds = model.predict(img)\n",
        "        decoded_preds = keras.applications.inception_v3.decode_predictions(preds, top=1)[0]\n",
        "        class_name = decoded_preds[0][1]\n",
        "        confidence = decoded_preds[0][2]\n",
        "\n",
        "        # Check if the predicted class name contains the query\n",
        "        if query.lower() in class_name.lower():\n",
        "            # Display the frame and the predicted class name\n",
        "            cv2.putText(frame, class_name, (10, 50), cv2.FONT_HERSHEY_SIMPLEX, 1, (0, 255, 0), 2)\n",
        "            cv2.imshow('frame', frame)\n",
        "            if cv2.waitKey(1) & 0xFF == ord('q'):\n",
        "                break\n"
      ],
      "metadata": {
        "id": "woXxoU7HKmNk"
      },
      "execution_count": 64,
      "outputs": []
    }
  ]
}